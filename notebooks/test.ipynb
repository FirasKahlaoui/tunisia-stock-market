{
 "cells": [
  {
   "cell_type": "code",
   "execution_count": 2,
   "metadata": {},
   "outputs": [
    {
     "name": "stdout",
     "output_type": "stream",
     "text": [
      "         date  openingPrice  highestPrice  lowestPrice  closingPrice  volume  \\\n",
      "0  16/06/2014         23.63         23.63        22.75         23.14    1608   \n",
      "1  23/06/2014         23.14         23.14        22.37         22.75   16837   \n",
      "2  30/06/2014         22.75         22.97        22.07         22.66   33514   \n",
      "3  07/07/2014         22.75         23.17        21.88         22.74    3340   \n",
      "4  14/07/2014         22.84         23.16        22.58         22.75    5789   \n",
      "\n",
      "  companyName  \n",
      "0   AMEN BANK  \n",
      "1   AMEN BANK  \n",
      "2   AMEN BANK  \n",
      "3   AMEN BANK  \n",
      "4   AMEN BANK  \n"
     ]
    }
   ],
   "source": [
    "import pandas as pd\n",
    "import json\n",
    "\n",
    "with open('../stock_scraper\\companies_data\\AB.json') as f:\n",
    "    data = json.load(f)\n",
    "\n",
    "df = pd.json_normalize(data, 'QuoteTab', ['Name'])\n",
    "\n",
    "# Rename the columns\n",
    "df.rename(columns={\n",
    "    'Name': 'companyName',\n",
    "    'd': 'date',\n",
    "    'o': 'openingPrice',\n",
    "    'h': 'highestPrice',\n",
    "    'l': 'lowestPrice',\n",
    "    'c': 'closingPrice',\n",
    "    'v': 'volume'\n",
    "}, inplace=True)\n"
   ]
  }
 ],
 "metadata": {
  "kernelspec": {
   "display_name": "Python 3",
   "language": "python",
   "name": "python3"
  },
  "language_info": {
   "codemirror_mode": {
    "name": "ipython",
    "version": 3
   },
   "file_extension": ".py",
   "mimetype": "text/x-python",
   "name": "python",
   "nbconvert_exporter": "python",
   "pygments_lexer": "ipython3",
   "version": "3.11.7"
  }
 },
 "nbformat": 4,
 "nbformat_minor": 2
}
