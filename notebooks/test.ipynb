{
 "cells": [
  {
   "cell_type": "code",
   "execution_count": 1,
   "metadata": {},
   "outputs": [
    {
     "name": "stderr",
     "output_type": "stream",
     "text": [
      "2024-07-22 23:49:48.739469: I external/local_xla/xla/tsl/cuda/cudart_stub.cc:32] Could not find cuda drivers on your machine, GPU will not be used.\n",
      "2024-07-22 23:49:48.772764: I external/local_xla/xla/tsl/cuda/cudart_stub.cc:32] Could not find cuda drivers on your machine, GPU will not be used.\n",
      "2024-07-22 23:49:48.828034: E external/local_xla/xla/stream_executor/cuda/cuda_fft.cc:485] Unable to register cuFFT factory: Attempting to register factory for plugin cuFFT when one has already been registered\n",
      "2024-07-22 23:49:48.865151: E external/local_xla/xla/stream_executor/cuda/cuda_dnn.cc:8454] Unable to register cuDNN factory: Attempting to register factory for plugin cuDNN when one has already been registered\n",
      "2024-07-22 23:49:48.873626: E external/local_xla/xla/stream_executor/cuda/cuda_blas.cc:1452] Unable to register cuBLAS factory: Attempting to register factory for plugin cuBLAS when one has already been registered\n",
      "2024-07-22 23:49:48.940602: I tensorflow/core/platform/cpu_feature_guard.cc:210] This TensorFlow binary is optimized to use available CPU instructions in performance-critical operations.\n",
      "To enable the following instructions: AVX2 FMA, in other operations, rebuild TensorFlow with the appropriate compiler flags.\n",
      "2024-07-22 23:49:50.814348: W tensorflow/compiler/tf2tensorrt/utils/py_utils.cc:38] TF-TRT Warning: Could not find TensorRT\n"
     ]
    }
   ],
   "source": [
    "# Import Libraries\n",
    "import numpy as np\n",
    "import seaborn as sns\n",
    "import matplotlib.pyplot as plt\n",
    "import pandas as pd\n",
    "import json\n",
    "from sklearn.model_selection import train_test_split\n",
    "from sklearn.metrics import mean_squared_error, mean_absolute_error, r2_score\n",
    "from sklearn.metrics import accuracy_score, precision_score, recall_score, f1_score\n",
    "from tensorflow.keras.models import Sequential\n",
    "from tensorflow.keras.layers import LSTM, Dense\n",
    "from tensorflow.keras.optimizers import Adam\n",
    "from tensorflow.keras import layers\n",
    "from sklearn.preprocessing import MinMaxScaler\n",
    "from datetime import datetime, timedelta\n",
    "from copy import deepcopy\n",
    "import math"
   ]
  },
  {
   "cell_type": "code",
   "execution_count": 2,
   "metadata": {},
   "outputs": [
    {
     "data": {
      "text/html": [
       "<div>\n",
       "<style scoped>\n",
       "    .dataframe tbody tr th:only-of-type {\n",
       "        vertical-align: middle;\n",
       "    }\n",
       "\n",
       "    .dataframe tbody tr th {\n",
       "        vertical-align: top;\n",
       "    }\n",
       "\n",
       "    .dataframe thead th {\n",
       "        text-align: right;\n",
       "    }\n",
       "</style>\n",
       "<table border=\"1\" class=\"dataframe\">\n",
       "  <thead>\n",
       "    <tr style=\"text-align: right;\">\n",
       "      <th></th>\n",
       "      <th>date</th>\n",
       "      <th>openingPrice</th>\n",
       "      <th>highestPrice</th>\n",
       "      <th>lowestPrice</th>\n",
       "      <th>closingPrice</th>\n",
       "      <th>volume</th>\n",
       "      <th>companyName</th>\n",
       "    </tr>\n",
       "  </thead>\n",
       "  <tbody>\n",
       "    <tr>\n",
       "      <th>0</th>\n",
       "      <td>16/06/2014</td>\n",
       "      <td>22.75</td>\n",
       "      <td>23.10</td>\n",
       "      <td>22.49</td>\n",
       "      <td>22.75</td>\n",
       "      <td>425</td>\n",
       "      <td>AMEN BANK</td>\n",
       "    </tr>\n",
       "    <tr>\n",
       "      <th>1</th>\n",
       "      <td>23/06/2014</td>\n",
       "      <td>22.75</td>\n",
       "      <td>22.93</td>\n",
       "      <td>22.07</td>\n",
       "      <td>22.65</td>\n",
       "      <td>1899</td>\n",
       "      <td>AMEN BANK</td>\n",
       "    </tr>\n",
       "    <tr>\n",
       "      <th>2</th>\n",
       "      <td>30/06/2014</td>\n",
       "      <td>22.65</td>\n",
       "      <td>22.66</td>\n",
       "      <td>22.23</td>\n",
       "      <td>22.65</td>\n",
       "      <td>2066</td>\n",
       "      <td>AMEN BANK</td>\n",
       "    </tr>\n",
       "    <tr>\n",
       "      <th>3</th>\n",
       "      <td>07/07/2014</td>\n",
       "      <td>22.65</td>\n",
       "      <td>22.75</td>\n",
       "      <td>22.31</td>\n",
       "      <td>22.75</td>\n",
       "      <td>3054</td>\n",
       "      <td>AMEN BANK</td>\n",
       "    </tr>\n",
       "    <tr>\n",
       "      <th>4</th>\n",
       "      <td>14/07/2014</td>\n",
       "      <td>22.75</td>\n",
       "      <td>22.75</td>\n",
       "      <td>22.49</td>\n",
       "      <td>22.49</td>\n",
       "      <td>1503</td>\n",
       "      <td>AMEN BANK</td>\n",
       "    </tr>\n",
       "    <tr>\n",
       "      <th>...</th>\n",
       "      <td>...</td>\n",
       "      <td>...</td>\n",
       "      <td>...</td>\n",
       "      <td>...</td>\n",
       "      <td>...</td>\n",
       "      <td>...</td>\n",
       "      <td>...</td>\n",
       "    </tr>\n",
       "    <tr>\n",
       "      <th>517</th>\n",
       "      <td>13/05/2024</td>\n",
       "      <td>44.97</td>\n",
       "      <td>46.50</td>\n",
       "      <td>43.00</td>\n",
       "      <td>43.99</td>\n",
       "      <td>33870</td>\n",
       "      <td>AMEN BANK</td>\n",
       "    </tr>\n",
       "    <tr>\n",
       "      <th>518</th>\n",
       "      <td>20/05/2024</td>\n",
       "      <td>43.99</td>\n",
       "      <td>43.99</td>\n",
       "      <td>42.20</td>\n",
       "      <td>43.20</td>\n",
       "      <td>8729</td>\n",
       "      <td>AMEN BANK</td>\n",
       "    </tr>\n",
       "    <tr>\n",
       "      <th>519</th>\n",
       "      <td>27/05/2024</td>\n",
       "      <td>43.20</td>\n",
       "      <td>44.00</td>\n",
       "      <td>43.10</td>\n",
       "      <td>44.00</td>\n",
       "      <td>6378</td>\n",
       "      <td>AMEN BANK</td>\n",
       "    </tr>\n",
       "    <tr>\n",
       "      <th>520</th>\n",
       "      <td>03/06/2024</td>\n",
       "      <td>44.00</td>\n",
       "      <td>44.00</td>\n",
       "      <td>43.35</td>\n",
       "      <td>43.99</td>\n",
       "      <td>13312</td>\n",
       "      <td>AMEN BANK</td>\n",
       "    </tr>\n",
       "    <tr>\n",
       "      <th>521</th>\n",
       "      <td>10/06/2024</td>\n",
       "      <td>43.99</td>\n",
       "      <td>43.99</td>\n",
       "      <td>43.70</td>\n",
       "      <td>43.90</td>\n",
       "      <td>2166</td>\n",
       "      <td>AMEN BANK</td>\n",
       "    </tr>\n",
       "  </tbody>\n",
       "</table>\n",
       "<p>522 rows × 7 columns</p>\n",
       "</div>"
      ],
      "text/plain": [
       "           date  openingPrice  highestPrice  lowestPrice  closingPrice  \\\n",
       "0    16/06/2014         22.75         23.10        22.49         22.75   \n",
       "1    23/06/2014         22.75         22.93        22.07         22.65   \n",
       "2    30/06/2014         22.65         22.66        22.23         22.65   \n",
       "3    07/07/2014         22.65         22.75        22.31         22.75   \n",
       "4    14/07/2014         22.75         22.75        22.49         22.49   \n",
       "..          ...           ...           ...          ...           ...   \n",
       "517  13/05/2024         44.97         46.50        43.00         43.99   \n",
       "518  20/05/2024         43.99         43.99        42.20         43.20   \n",
       "519  27/05/2024         43.20         44.00        43.10         44.00   \n",
       "520  03/06/2024         44.00         44.00        43.35         43.99   \n",
       "521  10/06/2024         43.99         43.99        43.70         43.90   \n",
       "\n",
       "     volume companyName  \n",
       "0       425   AMEN BANK  \n",
       "1      1899   AMEN BANK  \n",
       "2      2066   AMEN BANK  \n",
       "3      3054   AMEN BANK  \n",
       "4      1503   AMEN BANK  \n",
       "..      ...         ...  \n",
       "517   33870   AMEN BANK  \n",
       "518    8729   AMEN BANK  \n",
       "519    6378   AMEN BANK  \n",
       "520   13312   AMEN BANK  \n",
       "521    2166   AMEN BANK  \n",
       "\n",
       "[522 rows x 7 columns]"
      ]
     },
     "execution_count": 2,
     "metadata": {},
     "output_type": "execute_result"
    }
   ],
   "source": [
    "\n",
    "with open('../stock_scraper/companies_data/AB.json') as f:\n",
    "    data = json.load(f)\n",
    "\n",
    "amen_bank = pd.json_normalize(data, 'QuoteTab', ['Name'])\n",
    "\n",
    "# Rename the columns\n",
    "amen_bank.rename(columns={\n",
    "    'Name': 'companyName',\n",
    "    'd': 'date',\n",
    "    'o': 'openingPrice',\n",
    "    'h': 'highestPrice',\n",
    "    'l': 'lowestPrice',\n",
    "    'c': 'closingPrice',\n",
    "    'v': 'volume'\n",
    "}, inplace=True)\n",
    "amen_bank"
   ]
  },
  {
   "cell_type": "code",
   "execution_count": 3,
   "metadata": {},
   "outputs": [
    {
     "name": "stdout",
     "output_type": "stream",
     "text": [
      "(522, 7)\n"
     ]
    }
   ],
   "source": [
    "print(amen_bank.shape)\n"
   ]
  },
  {
   "cell_type": "code",
   "execution_count": 4,
   "metadata": {},
   "outputs": [
    {
     "data": {
      "text/plain": [
       "0      22.75\n",
       "1      22.65\n",
       "2      22.65\n",
       "3      22.75\n",
       "4      22.49\n",
       "       ...  \n",
       "517    43.99\n",
       "518    43.20\n",
       "519    44.00\n",
       "520    43.99\n",
       "521    43.90\n",
       "Name: closingPrice, Length: 522, dtype: float64"
      ]
     },
     "execution_count": 4,
     "metadata": {},
     "output_type": "execute_result"
    }
   ],
   "source": [
    "amen_bank=amen_bank.reset_index()['closingPrice']\n",
    "amen_bank"
   ]
  },
  {
   "cell_type": "code",
   "execution_count": 5,
   "metadata": {},
   "outputs": [
    {
     "data": {
      "text/plain": [
       "[<matplotlib.lines.Line2D at 0x7f5308acf070>]"
      ]
     },
     "execution_count": 5,
     "metadata": {},
     "output_type": "execute_result"
    },
    {
     "data": {
      "image/png": "[encoded data removed]",
      "text/plain": [
       "<Figure size 640x480 with 1 Axes>"
      ]
     },
     "metadata": {},
     "output_type": "display_data"
    }
   ],
   "source": [
    "plt.plot(amen_bank)"
   ]
  },
  {
   "cell_type": "code",
   "execution_count": 6,
   "metadata": {},
   "outputs": [
    {
     "data": {
      "text/plain": [
       "array([[0.17274758],\n",
       "       [0.16902457],\n",
       "       [0.16902457],\n",
       "       [0.17274758],\n",
       "       [0.16306776],\n",
       "       [0.16269546],\n",
       "       [0.15934475],\n",
       "       [0.15599404],\n",
       "       [0.14668652],\n",
       "       [0.14035741],\n",
       "       [0.14035741],\n",
       "       [0.14035741],\n",
       "       [0.14035741],\n",
       "       [0.15971705],\n",
       "       [0.19843634],\n",
       "       [0.18726731],\n",
       "       [0.18577811],\n",
       "       [0.19061802],\n",
       "       [0.18912882],\n",
       "       [0.18428891],\n",
       "       [0.1824274 ],\n",
       "       [0.16641847],\n",
       "       [0.17274758],\n",
       "       [0.15971705],\n",
       "       [0.16641847],\n",
       "       [0.14929263],\n",
       "       [0.1370067 ],\n",
       "       [0.12062547],\n",
       "       [0.12732688],\n",
       "       [0.12397617],\n",
       "       [0.11429635],\n",
       "       [0.10275503],\n",
       "       [0.0912137 ],\n",
       "       [0.09456441],\n",
       "       [0.10126582],\n",
       "       [0.09791512],\n",
       "       [0.08116158],\n",
       "       [0.10126582],\n",
       "       [0.14668652],\n",
       "       [0.15450484],\n",
       "       [0.1377513 ],\n",
       "       [0.10796724],\n",
       "       [0.1370067 ],\n",
       "       [0.11727476],\n",
       "       [0.14035741],\n",
       "       [0.18912882],\n",
       "       [0.19545793],\n",
       "       [0.21779598],\n",
       "       [0.20848846],\n",
       "       [0.22002978],\n",
       "       [0.20513775],\n",
       "       [0.20551005],\n",
       "       [0.21146687],\n",
       "       [0.21518987],\n",
       "       [0.20551005],\n",
       "       [0.20178704],\n",
       "       [0.19880864],\n",
       "       [0.1824274 ],\n",
       "       [0.17274758],\n",
       "       [0.18540581],\n",
       "       [0.18540581],\n",
       "       [0.17274758],\n",
       "       [0.17274758],\n",
       "       [0.16939687],\n",
       "       [0.16232316],\n",
       "       [0.15599404],\n",
       "       [0.12881608],\n",
       "       [0.13328369],\n",
       "       [0.12397617],\n",
       "       [0.11727476],\n",
       "       [0.10759494],\n",
       "       [0.10759494],\n",
       "       [0.10126582],\n",
       "       [0.0912137 ],\n",
       "       [0.08786299],\n",
       "       [0.0912137 ],\n",
       "       [0.07185406],\n",
       "       [0.04839911],\n",
       "       [0.03611318],\n",
       "       [0.02903946],\n",
       "       [0.01005212],\n",
       "       [0.01489203],\n",
       "       [0.00260611],\n",
       "       [0.01005212],\n",
       "       [0.03611318],\n",
       "       [0.02531646],\n",
       "       [0.01228593],\n",
       "       [0.01005212],\n",
       "       [0.01638124],\n",
       "       [0.01638124],\n",
       "       [0.01005212],\n",
       "       [0.01005212],\n",
       "       [0.02308265],\n",
       "       [0.02084885],\n",
       "       [0.02308265],\n",
       "       [0.05696203],\n",
       "       [0.05137751],\n",
       "       [0.02606106],\n",
       "       [0.02084885],\n",
       "       [0.01973194],\n",
       "       [0.01005212],\n",
       "       [0.04244229],\n",
       "       [0.04132539],\n",
       "       [0.02606106],\n",
       "       [0.02941176],\n",
       "       [0.01489203],\n",
       "       [0.02606106],\n",
       "       [0.07892777],\n",
       "       [0.11578555],\n",
       "       [0.12062547],\n",
       "       [0.10759494],\n",
       "       [0.10424423],\n",
       "       [0.09791512],\n",
       "       [0.09456441],\n",
       "       [0.10759494],\n",
       "       [0.09605361],\n",
       "       [0.09456441],\n",
       "       [0.07520477],\n",
       "       [0.11243485],\n",
       "       [0.1366344 ],\n",
       "       [0.17609829],\n",
       "       [0.16120625],\n",
       "       [0.14035741],\n",
       "       [0.12732688],\n",
       "       [0.12397617],\n",
       "       [0.0912137 ],\n",
       "       [0.11429635],\n",
       "       [0.0912137 ],\n",
       "       [0.09419211],\n",
       "       [0.09605361],\n",
       "       [0.07520477],\n",
       "       [0.08153388],\n",
       "       [0.07520477],\n",
       "       [0.07334326],\n",
       "       [0.07185406],\n",
       "       [0.05882353],\n",
       "       [0.04244229],\n",
       "       [0.03276247],\n",
       "       [0.04206999],\n",
       "       [0.05212211],\n",
       "       [0.06515264],\n",
       "       [0.04244229],\n",
       "       [0.04914371],\n",
       "       [0.06887565],\n",
       "       [0.08488459],\n",
       "       [0.04132539],\n",
       "       [0.03499628],\n",
       "       [0.06217424],\n",
       "       [0.05212211],\n",
       "       [0.05882353],\n",
       "       [0.05696203],\n",
       "       [0.09456441],\n",
       "       [0.07557707],\n",
       "       [0.15413254],\n",
       "       [0.14668652],\n",
       "       [0.13030529],\n",
       "       [0.14519732],\n",
       "       [0.14035741],\n",
       "       [0.14035741],\n",
       "       [0.14556962],\n",
       "       [0.14556962],\n",
       "       [0.15636634],\n",
       "       [0.18912882],\n",
       "       [0.20439315],\n",
       "       [0.20551005],\n",
       "       [0.16344006],\n",
       "       [0.13030529],\n",
       "       [0.13030529],\n",
       "       [0.13216679],\n",
       "       [0.14035741],\n",
       "       [0.16120625],\n",
       "       [0.1351452 ],\n",
       "       [0.13365599],\n",
       "       [0.12695458],\n",
       "       [0.12397617],\n",
       "       [0.12695458],\n",
       "       [0.10759494],\n",
       "       [0.08786299],\n",
       "       [0.11913626],\n",
       "       [0.10685034],\n",
       "       [0.09456441],\n",
       "       [0.09791512],\n",
       "       [0.12062547],\n",
       "       [0.11988086],\n",
       "       [0.15971705],\n",
       "       [0.15971705],\n",
       "       [0.16641847],\n",
       "       [0.16939687],\n",
       "       [0.16902457],\n",
       "       [0.21183917],\n",
       "       [0.22151899],\n",
       "       [0.21146687],\n",
       "       [0.20848846],\n",
       "       [0.20551005],\n",
       "       [0.21854058],\n",
       "       [0.23790022],\n",
       "       [0.23157111],\n",
       "       [0.19545793],\n",
       "       [0.19247952],\n",
       "       [0.18912882],\n",
       "       [0.20551005],\n",
       "       [0.25093075],\n",
       "       [0.30305287],\n",
       "       [0.33581534],\n",
       "       [0.30305287],\n",
       "       [0.30268057],\n",
       "       [0.29337305],\n",
       "       [0.29337305],\n",
       "       [0.3160834 ],\n",
       "       [0.34549516],\n",
       "       [0.35331348],\n",
       "       [0.35480268],\n",
       "       [0.35480268],\n",
       "       [0.3648548 ],\n",
       "       [0.33693224],\n",
       "       [0.32911392],\n",
       "       [0.31571109],\n",
       "       [0.2706627 ],\n",
       "       [0.23790022],\n",
       "       [0.23790022],\n",
       "       [0.23157111],\n",
       "       [0.20551005],\n",
       "       [0.21518987],\n",
       "       [0.20551005],\n",
       "       [0.19545793],\n",
       "       [0.19880864],\n",
       "       [0.20215934],\n",
       "       [0.22151899],\n",
       "       [0.22151899],\n",
       "       [0.21854058],\n",
       "       [0.21854058],\n",
       "       [0.22449739],\n",
       "       [0.21854058],\n",
       "       [0.20551005],\n",
       "       [0.19731943],\n",
       "       [0.18503351],\n",
       "       [0.17758749],\n",
       "       [0.15636634],\n",
       "       [0.14035741],\n",
       "       [0.1366344 ],\n",
       "       [0.12546538],\n",
       "       [0.10610573],\n",
       "       [0.10610573],\n",
       "       [0.13365599],\n",
       "       [0.12397617],\n",
       "       [0.11727476],\n",
       "       [0.16120625],\n",
       "       [0.15785555],\n",
       "       [0.15599404],\n",
       "       [0.15338794],\n",
       "       [0.15152643],\n",
       "       [0.11429635],\n",
       "       [0.1824274 ],\n",
       "       [0.20215934],\n",
       "       [0.21034996],\n",
       "       [0.20551005],\n",
       "       [0.20215934],\n",
       "       [0.20551005],\n",
       "       [0.22114669],\n",
       "       [0.22151899],\n",
       "       [0.23790022],\n",
       "       [0.23157111],\n",
       "       [0.23454952],\n",
       "       [0.23715562],\n",
       "       [0.23641102],\n",
       "       [0.23715562],\n",
       "       [0.23454952],\n",
       "       [0.23454952],\n",
       "       [0.23454952],\n",
       "       [0.23380491],\n",
       "       [0.23417722],\n",
       "       [0.23417722],\n",
       "       [0.23157111],\n",
       "       [0.22970961],\n",
       "       [0.22970961],\n",
       "       [0.23157111],\n",
       "       [0.23157111],\n",
       "       [0.23157111],\n",
       "       [0.23603872],\n",
       "       [0.25390916],\n",
       "       [0.26545048],\n",
       "       [0.27922561],\n",
       "       [0.27699181],\n",
       "       [0.28667163],\n",
       "       [0.30975428],\n",
       "       [0.30305287],\n",
       "       [0.30230827],\n",
       "       [0.30193596],\n",
       "       [0.2736411 ],\n",
       "       [0.23790022],\n",
       "       [0.23715562],\n",
       "       [0.26321668],\n",
       "       [0.20848846],\n",
       "       [0.19545793],\n",
       "       [0.17274758],\n",
       "       [0.17274758],\n",
       "       [0.14035741],\n",
       "       [0.14035741],\n",
       "       [0.17274758],\n",
       "       [0.15971705],\n",
       "       [0.17274758],\n",
       "       [0.23417722],\n",
       "       [0.20811616],\n",
       "       [0.20848846],\n",
       "       [0.20215934],\n",
       "       [0.16344006],\n",
       "       [0.14035741],\n",
       "       [0.14035741],\n",
       "       [0.12397617],\n",
       "       [0.12323157],\n",
       "       [0.16641847],\n",
       "       [0.17274758],\n",
       "       [0.16939687],\n",
       "       [0.15636634],\n",
       "       [0.17944899],\n",
       "       [0.16344006],\n",
       "       [0.17274758],\n",
       "       [0.15636634],\n",
       "       [0.15599404],\n",
       "       [0.14333582],\n",
       "       [0.13365599],\n",
       "       [0.13365599],\n",
       "       [0.12062547],\n",
       "       [0.12062547],\n",
       "       [0.11429635],\n",
       "       [0.12360387],\n",
       "       [0.12062547],\n",
       "       [0.11094564],\n",
       "       [0.10424423],\n",
       "       [0.10424423],\n",
       "       [0.10424423],\n",
       "       [0.0912137 ],\n",
       "       [0.08823529],\n",
       "       [0.06701415],\n",
       "       [0.03909159],\n",
       "       [0.03276247],\n",
       "       [0.05174981],\n",
       "       [0.045793  ],\n",
       "       [0.04244229],\n",
       "       [0.05398362],\n",
       "       [0.04244229],\n",
       "       [0.03090097],\n",
       "       [0.02233805],\n",
       "       [0.01005212],\n",
       "       [0.02680566],\n",
       "       [0.01005212],\n",
       "       [0.01005212],\n",
       "       [0.02755026],\n",
       "       [0.01973194],\n",
       "       [0.05696203],\n",
       "       [0.10424423],\n",
       "       [0.10238273],\n",
       "       [0.07520477],\n",
       "       [0.00893522],\n",
       "       [0.00335071],\n",
       "       [0.03425168],\n",
       "       [0.02568876],\n",
       "       [0.02606106],\n",
       "       [0.02606106],\n",
       "       [0.01005212],\n",
       "       [0.02606106],\n",
       "       [0.02606106],\n",
       "       [0.02308265],\n",
       "       [0.02308265],\n",
       "       [0.02233805],\n",
       "       [0.02271035],\n",
       "       [0.01935964],\n",
       "       [0.01935964],\n",
       "       [0.01787044],\n",
       "       [0.01824274],\n",
       "       [0.01638124],\n",
       "       [0.0018615 ],\n",
       "       [0.00335071],\n",
       "       [0.01005212],\n",
       "       [0.00335071],\n",
       "       [0.        ],\n",
       "       [0.00967982],\n",
       "       [0.00335071],\n",
       "       [0.        ],\n",
       "       [0.        ],\n",
       "       [0.01303053],\n",
       "       [0.01303053],\n",
       "       [0.07520477],\n",
       "       [0.08451229],\n",
       "       [0.07818317],\n",
       "       [0.07446016],\n",
       "       [0.07148176],\n",
       "       [0.11429635],\n",
       "       [0.11429635],\n",
       "       [0.10424423],\n",
       "       [0.10126582],\n",
       "       [0.10014892],\n",
       "       [0.09791512],\n",
       "       [0.09456441],\n",
       "       [0.09419211],\n",
       "       [0.0908414 ],\n",
       "       [0.08786299],\n",
       "       [0.07818317],\n",
       "       [0.07818317],\n",
       "       [0.07520477],\n",
       "       [0.07520477],\n",
       "       [0.07520477],\n",
       "       [0.10349963],\n",
       "       [0.12397617],\n",
       "       [0.14035741],\n",
       "       [0.13886821],\n",
       "       [0.12546538],\n",
       "       [0.10722264],\n",
       "       [0.10275503],\n",
       "       [0.10275503],\n",
       "       [0.10275503],\n",
       "       [0.10759494],\n",
       "       [0.10759494],\n",
       "       [0.10647803],\n",
       "       [0.10685034],\n",
       "       [0.10722264],\n",
       "       [0.10685034],\n",
       "       [0.10685034],\n",
       "       [0.10126582],\n",
       "       [0.10424423],\n",
       "       [0.12397617],\n",
       "       [0.13365599],\n",
       "       [0.1351452 ],\n",
       "       [0.13142219],\n",
       "       [0.13030529],\n",
       "       [0.12658228],\n",
       "       [0.13030529],\n",
       "       [0.12062547],\n",
       "       [0.12211467],\n",
       "       [0.12658228],\n",
       "       [0.12658228],\n",
       "       [0.12658228],\n",
       "       [0.12695458],\n",
       "       [0.11727476],\n",
       "       [0.12546538],\n",
       "       [0.12769918],\n",
       "       [0.15636634],\n",
       "       [0.17274758],\n",
       "       [0.16939687],\n",
       "       [0.17944899],\n",
       "       [0.18428891],\n",
       "       [0.23045421],\n",
       "       [0.2293373 ],\n",
       "       [0.2285927 ],\n",
       "       [0.24274013],\n",
       "       [0.23790022],\n",
       "       [0.23790022],\n",
       "       [0.17274758],\n",
       "       [0.30305287],\n",
       "       [0.34884587],\n",
       "       [0.35182427],\n",
       "       [0.36820551],\n",
       "       [0.40096798],\n",
       "       [0.43633656],\n",
       "       [0.47207744],\n",
       "       [0.48212956],\n",
       "       [0.45793001],\n",
       "       [0.49329859],\n",
       "       [0.48175726],\n",
       "       [0.44005957],\n",
       "       [0.43670886],\n",
       "       [0.43261355],\n",
       "       [0.43186895],\n",
       "       [0.42032762],\n",
       "       [0.43186895],\n",
       "       [0.43261355],\n",
       "       [0.42032762],\n",
       "       [0.41995532],\n",
       "       [0.41697692],\n",
       "       [0.41399851],\n",
       "       [0.4102755 ],\n",
       "       [0.50819062],\n",
       "       [0.56366344],\n",
       "       [0.60275503],\n",
       "       [0.60908414],\n",
       "       [0.61392405],\n",
       "       [0.59940432],\n",
       "       [0.5930752 ],\n",
       "       [0.59642591],\n",
       "       [0.61578555],\n",
       "       [0.61020104],\n",
       "       [0.591586  ],\n",
       "       [0.5912137 ],\n",
       "       [0.57297096],\n",
       "       [0.591586  ],\n",
       "       [0.56924795],\n",
       "       [0.55658972],\n",
       "       [0.53536858],\n",
       "       [0.51154133],\n",
       "       [0.58786299],\n",
       "       [0.56552494],\n",
       "       [0.57297096],\n",
       "       [0.55435592],\n",
       "       [0.55770663],\n",
       "       [0.51712584],\n",
       "       [0.55063291],\n",
       "       [0.55063291],\n",
       "       [0.55063291],\n",
       "       [0.55026061],\n",
       "       [0.55286672],\n",
       "       [0.62137007],\n",
       "       [0.62323157],\n",
       "       [0.62881608],\n",
       "       [0.62881608],\n",
       "       [0.7293373 ],\n",
       "       [0.76247208],\n",
       "       [0.81049888],\n",
       "       [0.76768429],\n",
       "       [0.78890544],\n",
       "       [0.78145942],\n",
       "       [0.80938198],\n",
       "       [0.77513031],\n",
       "       [0.81459419],\n",
       "       [0.84847357],\n",
       "       [0.85889799],\n",
       "       [0.88942666],\n",
       "       [1.        ],\n",
       "       [0.96351452],\n",
       "       [0.93410276],\n",
       "       [0.96388682],\n",
       "       [0.96351452],\n",
       "       [0.96016381]])"
      ]
     },
     "execution_count": 6,
     "metadata": {},
     "output_type": "execute_result"
    }
   ],
   "source": [
    "scaler=MinMaxScaler(feature_range=(0,1))\n",
    "scaled_data=scaler.fit_transform(np.array(amen_bank).reshape(-1,1))\n",
    "scaled_data"
   ]
  },
  {
   "cell_type": "code",
   "execution_count": 7,
   "metadata": {},
   "outputs": [],
   "source": [
    "##splitting dataset into train and test split\n",
    "training_size=int(len(scaled_data)*0.65)\n",
    "test_size=len(scaled_data)-training_size\n",
    "train_data,test_data=scaled_data[0:training_size,:],scaled_data[training_size:len(scaled_data),:1]"
   ]
  },
  {
   "cell_type": "code",
   "execution_count": 8,
   "metadata": {},
   "outputs": [],
   "source": [
    "# convert an array of values into a dataset matrix\n",
    "def create_dataset(dataset, time_step=1):\n",
    "\tdataX, dataY = [], []\n",
    "\tfor i in range(len(dataset)-time_step-1):\n",
    "\t\ta = dataset[i:(i+time_step), 0]  \n",
    "\t\tdataX.append(a)\n",
    "\t\tdataY.append(dataset[i + time_step, 0])\n",
    "\treturn np.array(dataX), np.array(dataY)"
   ]
  },
  {
   "cell_type": "code",
   "execution_count": 9,
   "metadata": {},
   "outputs": [],
   "source": [
    "\n",
    "time_step = 10\n",
    "X_train, y_train = create_dataset(train_data, time_step)\n",
    "X_test, y_test = create_dataset(test_data, time_step)"
   ]
  },
  {
   "cell_type": "code",
   "execution_count": 10,
   "metadata": {},
   "outputs": [
    {
     "name": "stdout",
     "output_type": "stream",
     "text": [
      "(328, 10)\n",
      "(328,)\n"
     ]
    },
    {
     "data": {
      "text/plain": [
       "(None, None)"
      ]
     },
     "execution_count": 10,
     "metadata": {},
     "output_type": "execute_result"
    }
   ],
   "source": [
    "print(X_train.shape), print(y_train.shape)"
   ]
  },
  {
   "cell_type": "code",
   "execution_count": 11,
   "metadata": {},
   "outputs": [
    {
     "name": "stdout",
     "output_type": "stream",
     "text": [
      "(172, 10)\n",
      "(172,)\n"
     ]
    },
    {
     "data": {
      "text/plain": [
       "(None, None)"
      ]
     },
     "execution_count": 11,
     "metadata": {},
     "output_type": "execute_result"
    }
   ],
   "source": [
    "print(X_test.shape), print(y_test.shape)"
   ]
  },
  {
   "cell_type": "code",
   "execution_count": 12,
   "metadata": {},
   "outputs": [],
   "source": [
    "# reshape input to be [samples, time steps, features] which is required for LSTM\n",
    "X_train =X_train.reshape(X_train.shape[0],X_train.shape[1] , 1)\n",
    "X_test = X_test.reshape(X_test.shape[0],X_test.shape[1] , 1)"
   ]
  },
  {
   "cell_type": "code",
   "execution_count": 13,
   "metadata": {},
   "outputs": [
    {
     "name": "stderr",
     "output_type": "stream",
     "text": [
      "/home/firas/.local/lib/python3.10/site-packages/keras/src/layers/rnn/rnn.py:204: UserWarning: Do not pass an `input_shape`/`input_dim` argument to a layer. When using Sequential models, prefer using an `Input(shape)` object as the first layer in the model instead.\n",
      "  super().__init__(**kwargs)\n"
     ]
    }
   ],
   "source": [
    "model=Sequential()\n",
    "model.add(LSTM(50,return_sequences=True,input_shape=(10,1)))\n",
    "model.add(LSTM(50,return_sequences=True))\n",
    "model.add(LSTM(50))\n",
    "model.add(Dense(1))\n",
    "model.compile(loss='mean_squared_error',optimizer='adam')"
   ]
  },
  {
   "cell_type": "code",
   "execution_count": 14,
   "metadata": {},
   "outputs": [
    {
     "data": {
      "text/html": [
       "<pre style=\"white-space:pre;overflow-x:auto;line-height:normal;font-family:Menlo,'DejaVu Sans Mono',consolas,'Courier New',monospace\"><span style=\"font-weight: bold\">Model: \"sequential\"</span>\n",
       "</pre>\n"
      ],
      "text/plain": [
       "\u001b[1mModel: \"sequential\"\u001b[0m\n"
      ]
     },
     "metadata": {},
     "output_type": "display_data"
    },
    {
     "data": {
      "text/html": [
       "<pre style=\"white-space:pre;overflow-x:auto;line-height:normal;font-family:Menlo,'DejaVu Sans Mono',consolas,'Courier New',monospace\">┏━━━━━━━━━━━━━━━━━━━━━━━━━━━━━━━━━┳━━━━━━━━━━━━━━━━━━━━━━━━┳━━━━━━━━━━━━━━━┓\n",
       "┃<span style=\"font-weight: bold\"> Layer (type)                    </span>┃<span style=\"font-weight: bold\"> Output Shape           </span>┃<span style=\"font-weight: bold\">       Param # </span>┃\n",
       "┡━━━━━━━━━━━━━━━━━━━━━━━━━━━━━━━━━╇━━━━━━━━━━━━━━━━━━━━━━━━╇━━━━━━━━━━━━━━━┩\n",
       "│ lstm (<span style=\"color: #0087ff; text-decoration-color: #0087ff\">LSTM</span>)                     │ (<span style=\"color: #00d7ff; text-decoration-color: #00d7ff\">None</span>, <span style=\"color: #00af00; text-decoration-color: #00af00\">10</span>, <span style=\"color: #00af00; text-decoration-color: #00af00\">50</span>)         │        <span style=\"color: #00af00; text-decoration-color: #00af00\">10,400</span> │\n",
       "├─────────────────────────────────┼────────────────────────┼───────────────┤\n",
       "│ lstm_1 (<span style=\"color: #0087ff; text-decoration-color: #0087ff\">LSTM</span>)                   │ (<span style=\"color: #00d7ff; text-decoration-color: #00d7ff\">None</span>, <span style=\"color: #00af00; text-decoration-color: #00af00\">10</span>, <span style=\"color: #00af00; text-decoration-color: #00af00\">50</span>)         │        <span style=\"color: #00af00; text-decoration-color: #00af00\">20,200</span> │\n",
       "├─────────────────────────────────┼────────────────────────┼───────────────┤\n",
       "│ lstm_2 (<span style=\"color: #0087ff; text-decoration-color: #0087ff\">LSTM</span>)                   │ (<span style=\"color: #00d7ff; text-decoration-color: #00d7ff\">None</span>, <span style=\"color: #00af00; text-decoration-color: #00af00\">50</span>)             │        <span style=\"color: #00af00; text-decoration-color: #00af00\">20,200</span> │\n",
       "├─────────────────────────────────┼────────────────────────┼───────────────┤\n",
       "│ dense (<span style=\"color: #0087ff; text-decoration-color: #0087ff\">Dense</span>)                   │ (<span style=\"color: #00d7ff; text-decoration-color: #00d7ff\">None</span>, <span style=\"color: #00af00; text-decoration-color: #00af00\">1</span>)              │            <span style=\"color: #00af00; text-decoration-color: #00af00\">51</span> │\n",
       "└─────────────────────────────────┴────────────────────────┴───────────────┘\n",
       "</pre>\n"
      ],
      "text/plain": [
       "┏━━━━━━━━━━━━━━━━━━━━━━━━━━━━━━━━━┳━━━━━━━━━━━━━━━━━━━━━━━━┳━━━━━━━━━━━━━━━┓\n",
       "┃\u001b[1m \u001b[0m\u001b[1mLayer (type)                   \u001b[0m\u001b[1m \u001b[0m┃\u001b[1m \u001b[0m\u001b[1mOutput Shape          \u001b[0m\u001b[1m \u001b[0m┃\u001b[1m \u001b[0m\u001b[1m      Param #\u001b[0m\u001b[1m \u001b[0m┃\n",
       "┡━━━━━━━━━━━━━━━━━━━━━━━━━━━━━━━━━╇━━━━━━━━━━━━━━━━━━━━━━━━╇━━━━━━━━━━━━━━━┩\n",
       "│ lstm (\u001b[38;5;33mLSTM\u001b[0m)                     │ (\u001b[38;5;45mNone\u001b[0m, \u001b[38;5;34m10\u001b[0m, \u001b[38;5;34m50\u001b[0m)         │        \u001b[38;5;34m10,400\u001b[0m │\n",
       "├─────────────────────────────────┼────────────────────────┼───────────────┤\n",
       "│ lstm_1 (\u001b[38;5;33mLSTM\u001b[0m)                   │ (\u001b[38;5;45mNone\u001b[0m, \u001b[38;5;34m10\u001b[0m, \u001b[38;5;34m50\u001b[0m)         │        \u001b[38;5;34m20,200\u001b[0m │\n",
       "├─────────────────────────────────┼────────────────────────┼───────────────┤\n",
       "│ lstm_2 (\u001b[38;5;33mLSTM\u001b[0m)                   │ (\u001b[38;5;45mNone\u001b[0m, \u001b[38;5;34m50\u001b[0m)             │        \u001b[38;5;34m20,200\u001b[0m │\n",
       "├─────────────────────────────────┼────────────────────────┼───────────────┤\n",
       "│ dense (\u001b[38;5;33mDense\u001b[0m)                   │ (\u001b[38;5;45mNone\u001b[0m, \u001b[38;5;34m1\u001b[0m)              │            \u001b[38;5;34m51\u001b[0m │\n",
       "└─────────────────────────────────┴────────────────────────┴───────────────┘\n"
      ]
     },
     "metadata": {},
     "output_type": "display_data"
    },
    {
     "data": {
      "text/html": [
       "<pre style=\"white-space:pre;overflow-x:auto;line-height:normal;font-family:Menlo,'DejaVu Sans Mono',consolas,'Courier New',monospace\"><span style=\"font-weight: bold\"> Total params: </span><span style=\"color: #00af00; text-decoration-color: #00af00\">50,851</span> (198.64 KB)\n",
       "</pre>\n"
      ],
      "text/plain": [
       "\u001b[1m Total params: \u001b[0m\u001b[38;5;34m50,851\u001b[0m (198.64 KB)\n"
      ]
     },
     "metadata": {},
     "output_type": "display_data"
    },
    {
     "data": {
      "text/html": [
       "<pre style=\"white-space:pre;overflow-x:auto;line-height:normal;font-family:Menlo,'DejaVu Sans Mono',consolas,'Courier New',monospace\"><span style=\"font-weight: bold\"> Trainable params: </span><span style=\"color: #00af00; text-decoration-color: #00af00\">50,851</span> (198.64 KB)\n",
       "</pre>\n"
      ],
      "text/plain": [
       "\u001b[1m Trainable params: \u001b[0m\u001b[38;5;34m50,851\u001b[0m (198.64 KB)\n"
      ]
     },
     "metadata": {},
     "output_type": "display_data"
    },
    {
     "data": {
      "text/html": [
       "<pre style=\"white-space:pre;overflow-x:auto;line-height:normal;font-family:Menlo,'DejaVu Sans Mono',consolas,'Courier New',monospace\"><span style=\"font-weight: bold\"> Non-trainable params: </span><span style=\"color: #00af00; text-decoration-color: #00af00\">0</span> (0.00 B)\n",
       "</pre>\n"
      ],
      "text/plain": [
       "\u001b[1m Non-trainable params: \u001b[0m\u001b[38;5;34m0\u001b[0m (0.00 B)\n"
      ]
     },
     "metadata": {},
     "output_type": "display_data"
    }
   ],
   "source": [
    "model.summary()"
   ]
  },
  {
   "cell_type": "code",
   "execution_count": 15,
   "metadata": {},
   "outputs": [
    {
     "name": "stdout",
     "output_type": "stream",
     "text": [
      "Epoch 1/100\n",
      "\u001b[1m6/6\u001b[0m \u001b[32m━━━━━━━━━━━━━━━━━━━━\u001b[0m\u001b[37m\u001b[0m \u001b[1m4s\u001b[0m 106ms/step - loss: 0.0264 - val_loss: 0.0885\n",
      "Epoch 2/100\n",
      "\u001b[1m6/6\u001b[0m \u001b[32m━━━━━━━━━━━━━━━━━━━━\u001b[0m\u001b[37m\u001b[0m \u001b[1m0s\u001b[0m 24ms/step - loss: 0.0055 - val_loss: 0.0383\n",
      "Epoch 3/100\n",
      "\u001b[1m6/6\u001b[0m \u001b[32m━━━━━━━━━━━━━━━━━━━━\u001b[0m\u001b[37m\u001b[0m \u001b[1m0s\u001b[0m 24ms/step - loss: 0.0059 - val_loss: 0.0606\n",
      "Epoch 4/100\n",
      "\u001b[1m6/6\u001b[0m \u001b[32m━━━━━━━━━━━━━━━━━━━━\u001b[0m\u001b[37m\u001b[0m \u001b[1m0s\u001b[0m 24ms/step - loss: 0.0044 - val_loss: 0.0594\n",
      "Epoch 5/100\n",
      "\u001b[1m6/6\u001b[0m \u001b[32m━━━━━━━━━━━━━━━━━━━━\u001b[0m\u001b[37m\u001b[0m \u001b[1m0s\u001b[0m 25ms/step - loss: 0.0038 - val_loss: 0.0390\n",
      "Epoch 6/100\n",
      "\u001b[1m6/6\u001b[0m \u001b[32m━━━━━━━━━━━━━━━━━━━━\u001b[0m\u001b[37m\u001b[0m \u001b[1m0s\u001b[0m 24ms/step - loss: 0.0032 - val_loss: 0.0283\n",
      "Epoch 7/100\n",
      "\u001b[1m6/6\u001b[0m \u001b[32m━━━━━━━━━━━━━━━━━━━━\u001b[0m\u001b[37m\u001b[0m \u001b[1m0s\u001b[0m 24ms/step - loss: 0.0027 - val_loss: 0.0233\n",
      "Epoch 8/100\n",
      "\u001b[1m6/6\u001b[0m \u001b[32m━━━━━━━━━━━━━━━━━━━━\u001b[0m\u001b[37m\u001b[0m \u001b[1m0s\u001b[0m 24ms/step - loss: 0.0023 - val_loss: 0.0123\n",
      "Epoch 9/100\n",
      "\u001b[1m6/6\u001b[0m \u001b[32m━━━━━━━━━━━━━━━━━━━━\u001b[0m\u001b[37m\u001b[0m \u001b[1m0s\u001b[0m 23ms/step - loss: 0.0019 - val_loss: 0.0059\n",
      "Epoch 10/100\n",
      "\u001b[1m6/6\u001b[0m \u001b[32m━━━━━━━━━━━━━━━━━━━━\u001b[0m\u001b[37m\u001b[0m \u001b[1m0s\u001b[0m 24ms/step - loss: 0.0019 - val_loss: 0.0062\n",
      "Epoch 11/100\n",
      "\u001b[1m6/6\u001b[0m \u001b[32m━━━━━━━━━━━━━━━━━━━━\u001b[0m\u001b[37m\u001b[0m \u001b[1m0s\u001b[0m 24ms/step - loss: 0.0020 - val_loss: 0.0052\n",
      "Epoch 12/100\n",
      "\u001b[1m6/6\u001b[0m \u001b[32m━━━━━━━━━━━━━━━━━━━━\u001b[0m\u001b[37m\u001b[0m \u001b[1m0s\u001b[0m 23ms/step - loss: 0.0020 - val_loss: 0.0078\n",
      "Epoch 13/100\n",
      "\u001b[1m6/6\u001b[0m \u001b[32m━━━━━━━━━━━━━━━━━━━━\u001b[0m\u001b[37m\u001b[0m \u001b[1m0s\u001b[0m 23ms/step - loss: 0.0020 - val_loss: 0.0077\n",
      "Epoch 14/100\n",
      "\u001b[1m6/6\u001b[0m \u001b[32m━━━━━━━━━━━━━━━━━━━━\u001b[0m\u001b[37m\u001b[0m \u001b[1m0s\u001b[0m 24ms/step - loss: 0.0019 - val_loss: 0.0079\n",
      "Epoch 15/100\n",
      "\u001b[1m6/6\u001b[0m \u001b[32m━━━━━━━━━━━━━━━━━━━━\u001b[0m\u001b[37m\u001b[0m \u001b[1m0s\u001b[0m 25ms/step - loss: 0.0020 - val_loss: 0.0078\n",
      "Epoch 16/100\n",
      "\u001b[1m6/6\u001b[0m \u001b[32m━━━━━━━━━━━━━━━━━━━━\u001b[0m\u001b[37m\u001b[0m \u001b[1m0s\u001b[0m 23ms/step - loss: 0.0019 - val_loss: 0.0071\n",
      "Epoch 17/100\n",
      "\u001b[1m6/6\u001b[0m \u001b[32m━━━━━━━━━━━━━━━━━━━━\u001b[0m\u001b[37m\u001b[0m \u001b[1m0s\u001b[0m 24ms/step - loss: 0.0022 - val_loss: 0.0108\n",
      "Epoch 18/100\n",
      "\u001b[1m6/6\u001b[0m \u001b[32m━━━━━━━━━━━━━━━━━━━━\u001b[0m\u001b[37m\u001b[0m \u001b[1m0s\u001b[0m 30ms/step - loss: 0.0023 - val_loss: 0.0115\n",
      "Epoch 19/100\n",
      "\u001b[1m6/6\u001b[0m \u001b[32m━━━━━━━━━━━━━━━━━━━━\u001b[0m\u001b[37m\u001b[0m \u001b[1m0s\u001b[0m 24ms/step - loss: 0.0018 - val_loss: 0.0083\n",
      "Epoch 20/100\n",
      "\u001b[1m6/6\u001b[0m \u001b[32m━━━━━━━━━━━━━━━━━━━━\u001b[0m\u001b[37m\u001b[0m \u001b[1m0s\u001b[0m 24ms/step - loss: 0.0019 - val_loss: 0.0116\n",
      "Epoch 21/100\n",
      "\u001b[1m6/6\u001b[0m \u001b[32m━━━━━━━━━━━━━━━━━━━━\u001b[0m\u001b[37m\u001b[0m \u001b[1m0s\u001b[0m 24ms/step - loss: 0.0019 - val_loss: 0.0068\n",
      "Epoch 22/100\n",
      "\u001b[1m6/6\u001b[0m \u001b[32m━━━━━━━━━━━━━━━━━━━━\u001b[0m\u001b[37m\u001b[0m \u001b[1m0s\u001b[0m 24ms/step - loss: 0.0018 - val_loss: 0.0090\n",
      "Epoch 23/100\n",
      "\u001b[1m6/6\u001b[0m \u001b[32m━━━━━━━━━━━━━━━━━━━━\u001b[0m\u001b[37m\u001b[0m \u001b[1m0s\u001b[0m 23ms/step - loss: 0.0019 - val_loss: 0.0075\n",
      "Epoch 24/100\n",
      "\u001b[1m6/6\u001b[0m \u001b[32m━━━━━━━━━━━━━━━━━━━━\u001b[0m\u001b[37m\u001b[0m \u001b[1m0s\u001b[0m 23ms/step - loss: 0.0018 - val_loss: 0.0084\n",
      "Epoch 25/100\n",
      "\u001b[1m6/6\u001b[0m \u001b[32m━━━━━━━━━━━━━━━━━━━━\u001b[0m\u001b[37m\u001b[0m \u001b[1m0s\u001b[0m 23ms/step - loss: 0.0018 - val_loss: 0.0064\n",
      "Epoch 26/100\n",
      "\u001b[1m6/6\u001b[0m \u001b[32m━━━━━━━━━━━━━━━━━━━━\u001b[0m\u001b[37m\u001b[0m \u001b[1m0s\u001b[0m 23ms/step - loss: 0.0017 - val_loss: 0.0060\n",
      "Epoch 27/100\n",
      "\u001b[1m6/6\u001b[0m \u001b[32m━━━━━━━━━━━━━━━━━━━━\u001b[0m\u001b[37m\u001b[0m \u001b[1m0s\u001b[0m 23ms/step - loss: 0.0017 - val_loss: 0.0063\n",
      "Epoch 28/100\n",
      "\u001b[1m6/6\u001b[0m \u001b[32m━━━━━━━━━━━━━━━━━━━━\u001b[0m\u001b[37m\u001b[0m \u001b[1m0s\u001b[0m 32ms/step - loss: 0.0018 - val_loss: 0.0087\n",
      "Epoch 29/100\n",
      "\u001b[1m6/6\u001b[0m \u001b[32m━━━━━━━━━━━━━━━━━━━━\u001b[0m\u001b[37m\u001b[0m \u001b[1m0s\u001b[0m 24ms/step - loss: 0.0017 - val_loss: 0.0076\n",
      "Epoch 30/100\n",
      "\u001b[1m6/6\u001b[0m \u001b[32m━━━━━━━━━━━━━━━━━━━━\u001b[0m\u001b[37m\u001b[0m \u001b[1m0s\u001b[0m 23ms/step - loss: 0.0017 - val_loss: 0.0073\n",
      "Epoch 31/100\n",
      "\u001b[1m6/6\u001b[0m \u001b[32m━━━━━━━━━━━━━━━━━━━━\u001b[0m\u001b[37m\u001b[0m \u001b[1m0s\u001b[0m 24ms/step - loss: 0.0017 - val_loss: 0.0054\n",
      "Epoch 32/100\n",
      "\u001b[1m6/6\u001b[0m \u001b[32m━━━━━━━━━━━━━━━━━━━━\u001b[0m\u001b[37m\u001b[0m \u001b[1m0s\u001b[0m 26ms/step - loss: 0.0016 - val_loss: 0.0060\n",
      "Epoch 33/100\n",
      "\u001b[1m6/6\u001b[0m \u001b[32m━━━━━━━━━━━━━━━━━━━━\u001b[0m\u001b[37m\u001b[0m \u001b[1m0s\u001b[0m 24ms/step - loss: 0.0015 - val_loss: 0.0052\n",
      "Epoch 34/100\n",
      "\u001b[1m6/6\u001b[0m \u001b[32m━━━━━━━━━━━━━━━━━━━━\u001b[0m\u001b[37m\u001b[0m \u001b[1m0s\u001b[0m 24ms/step - loss: 0.0016 - val_loss: 0.0070\n",
      "Epoch 35/100\n",
      "\u001b[1m6/6\u001b[0m \u001b[32m━━━━━━━━━━━━━━━━━━━━\u001b[0m\u001b[37m\u001b[0m \u001b[1m0s\u001b[0m 24ms/step - loss: 0.0016 - val_loss: 0.0104\n",
      "Epoch 36/100\n",
      "\u001b[1m6/6\u001b[0m \u001b[32m━━━━━━━━━━━━━━━━━━━━\u001b[0m\u001b[37m\u001b[0m \u001b[1m0s\u001b[0m 25ms/step - loss: 0.0017 - val_loss: 0.0069\n",
      "Epoch 37/100\n",
      "\u001b[1m6/6\u001b[0m \u001b[32m━━━━━━━━━━━━━━━━━━━━\u001b[0m\u001b[37m\u001b[0m \u001b[1m0s\u001b[0m 23ms/step - loss: 0.0015 - val_loss: 0.0069\n",
      "Epoch 38/100\n",
      "\u001b[1m6/6\u001b[0m \u001b[32m━━━━━━━━━━━━━━━━━━━━\u001b[0m\u001b[37m\u001b[0m \u001b[1m0s\u001b[0m 24ms/step - loss: 0.0014 - val_loss: 0.0046\n",
      "Epoch 39/100\n",
      "\u001b[1m6/6\u001b[0m \u001b[32m━━━━━━━━━━━━━━━━━━━━\u001b[0m\u001b[37m\u001b[0m \u001b[1m0s\u001b[0m 23ms/step - loss: 0.0014 - val_loss: 0.0058\n",
      "Epoch 40/100\n",
      "\u001b[1m6/6\u001b[0m \u001b[32m━━━━━━━━━━━━━━━━━━━━\u001b[0m\u001b[37m\u001b[0m \u001b[1m0s\u001b[0m 23ms/step - loss: 0.0014 - val_loss: 0.0084\n",
      "Epoch 41/100\n",
      "\u001b[1m6/6\u001b[0m \u001b[32m━━━━━━━━━━━━━━━━━━━━\u001b[0m\u001b[37m\u001b[0m \u001b[1m0s\u001b[0m 24ms/step - loss: 0.0013 - val_loss: 0.0096\n",
      "Epoch 42/100\n",
      "\u001b[1m6/6\u001b[0m \u001b[32m━━━━━━━━━━━━━━━━━━━━\u001b[0m\u001b[37m\u001b[0m \u001b[1m0s\u001b[0m 23ms/step - loss: 0.0013 - val_loss: 0.0062\n",
      "Epoch 43/100\n",
      "\u001b[1m6/6\u001b[0m \u001b[32m━━━━━━━━━━━━━━━━━━━━\u001b[0m\u001b[37m\u001b[0m \u001b[1m0s\u001b[0m 24ms/step - loss: 0.0013 - val_loss: 0.0092\n",
      "Epoch 44/100\n",
      "\u001b[1m6/6\u001b[0m \u001b[32m━━━━━━━━━━━━━━━━━━━━\u001b[0m\u001b[37m\u001b[0m \u001b[1m0s\u001b[0m 42ms/step - loss: 0.0012 - val_loss: 0.0073\n",
      "Epoch 45/100\n",
      "\u001b[1m6/6\u001b[0m \u001b[32m━━━━━━━━━━━━━━━━━━━━\u001b[0m\u001b[37m\u001b[0m \u001b[1m0s\u001b[0m 24ms/step - loss: 0.0011 - val_loss: 0.0094\n",
      "Epoch 46/100\n",
      "\u001b[1m6/6\u001b[0m \u001b[32m━━━━━━━━━━━━━━━━━━━━\u001b[0m\u001b[37m\u001b[0m \u001b[1m0s\u001b[0m 23ms/step - loss: 0.0012 - val_loss: 0.0097\n",
      "Epoch 47/100\n",
      "\u001b[1m6/6\u001b[0m \u001b[32m━━━━━━━━━━━━━━━━━━━━\u001b[0m\u001b[37m\u001b[0m \u001b[1m0s\u001b[0m 23ms/step - loss: 0.0011 - val_loss: 0.0241\n",
      "Epoch 48/100\n",
      "\u001b[1m6/6\u001b[0m \u001b[32m━━━━━━━━━━━━━━━━━━━━\u001b[0m\u001b[37m\u001b[0m \u001b[1m0s\u001b[0m 25ms/step - loss: 0.0015 - val_loss: 0.0046\n",
      "Epoch 49/100\n",
      "\u001b[1m6/6\u001b[0m \u001b[32m━━━━━━━━━━━━━━━━━━━━\u001b[0m\u001b[37m\u001b[0m \u001b[1m0s\u001b[0m 23ms/step - loss: 0.0012 - val_loss: 0.0038\n",
      "Epoch 50/100\n",
      "\u001b[1m6/6\u001b[0m \u001b[32m━━━━━━━━━━━━━━━━━━━━\u001b[0m\u001b[37m\u001b[0m \u001b[1m0s\u001b[0m 25ms/step - loss: 0.0013 - val_loss: 0.0164\n",
      "Epoch 51/100\n",
      "\u001b[1m6/6\u001b[0m \u001b[32m━━━━━━━━━━━━━━━━━━━━\u001b[0m\u001b[37m\u001b[0m \u001b[1m0s\u001b[0m 23ms/step - loss: 0.0011 - val_loss: 0.0074\n",
      "Epoch 52/100\n",
      "\u001b[1m6/6\u001b[0m \u001b[32m━━━━━━━━━━━━━━━━━━━━\u001b[0m\u001b[37m\u001b[0m \u001b[1m0s\u001b[0m 23ms/step - loss: 9.6213e-04 - val_loss: 0.0090\n",
      "Epoch 53/100\n",
      "\u001b[1m6/6\u001b[0m \u001b[32m━━━━━━━━━━━━━━━━━━━━\u001b[0m\u001b[37m\u001b[0m \u001b[1m0s\u001b[0m 24ms/step - loss: 9.1789e-04 - val_loss: 0.0140\n",
      "Epoch 54/100\n",
      "\u001b[1m6/6\u001b[0m \u001b[32m━━━━━━━━━━━━━━━━━━━━\u001b[0m\u001b[37m\u001b[0m \u001b[1m0s\u001b[0m 24ms/step - loss: 0.0011 - val_loss: 0.0056\n",
      "Epoch 55/100\n",
      "\u001b[1m6/6\u001b[0m \u001b[32m━━━━━━━━━━━━━━━━━━━━\u001b[0m\u001b[37m\u001b[0m \u001b[1m0s\u001b[0m 23ms/step - loss: 0.0013 - val_loss: 0.0119\n",
      "Epoch 56/100\n",
      "\u001b[1m6/6\u001b[0m \u001b[32m━━━━━━━━━━━━━━━━━━━━\u001b[0m\u001b[37m\u001b[0m \u001b[1m0s\u001b[0m 23ms/step - loss: 0.0010 - val_loss: 0.0075\n",
      "Epoch 57/100\n",
      "\u001b[1m6/6\u001b[0m \u001b[32m━━━━━━━━━━━━━━━━━━━━\u001b[0m\u001b[37m\u001b[0m \u001b[1m0s\u001b[0m 24ms/step - loss: 0.0010 - val_loss: 0.0142\n",
      "Epoch 58/100\n",
      "\u001b[1m6/6\u001b[0m \u001b[32m━━━━━━━━━━━━━━━━━━━━\u001b[0m\u001b[37m\u001b[0m \u001b[1m0s\u001b[0m 24ms/step - loss: 0.0011 - val_loss: 0.0082\n",
      "Epoch 59/100\n",
      "\u001b[1m6/6\u001b[0m \u001b[32m━━━━━━━━━━━━━━━━━━━━\u001b[0m\u001b[37m\u001b[0m \u001b[1m0s\u001b[0m 23ms/step - loss: 0.0012 - val_loss: 0.0140\n",
      "Epoch 60/100\n",
      "\u001b[1m6/6\u001b[0m \u001b[32m━━━━━━━━━━━━━━━━━━━━\u001b[0m\u001b[37m\u001b[0m \u001b[1m0s\u001b[0m 24ms/step - loss: 8.7701e-04 - val_loss: 0.0043\n",
      "Epoch 61/100\n",
      "\u001b[1m6/6\u001b[0m \u001b[32m━━━━━━━━━━━━━━━━━━━━\u001b[0m\u001b[37m\u001b[0m \u001b[1m0s\u001b[0m 23ms/step - loss: 9.6645e-04 - val_loss: 0.0099\n",
      "Epoch 62/100\n",
      "\u001b[1m6/6\u001b[0m \u001b[32m━━━━━━━━━━━━━━━━━━━━\u001b[0m\u001b[37m\u001b[0m \u001b[1m0s\u001b[0m 23ms/step - loss: 9.1943e-04 - val_loss: 0.0083\n",
      "Epoch 63/100\n",
      "\u001b[1m6/6\u001b[0m \u001b[32m━━━━━━━━━━━━━━━━━━━━\u001b[0m\u001b[37m\u001b[0m \u001b[1m0s\u001b[0m 23ms/step - loss: 9.2604e-04 - val_loss: 0.0130\n",
      "Epoch 64/100\n",
      "\u001b[1m6/6\u001b[0m \u001b[32m━━━━━━━━━━━━━━━━━━━━\u001b[0m\u001b[37m\u001b[0m \u001b[1m0s\u001b[0m 25ms/step - loss: 0.0010 - val_loss: 0.0040\n",
      "Epoch 65/100\n",
      "\u001b[1m6/6\u001b[0m \u001b[32m━━━━━━━━━━━━━━━━━━━━\u001b[0m\u001b[37m\u001b[0m \u001b[1m0s\u001b[0m 23ms/step - loss: 0.0011 - val_loss: 0.0098\n",
      "Epoch 66/100\n",
      "\u001b[1m6/6\u001b[0m \u001b[32m━━━━━━━━━━━━━━━━━━━━\u001b[0m\u001b[37m\u001b[0m \u001b[1m0s\u001b[0m 24ms/step - loss: 9.3367e-04 - val_loss: 0.0061\n",
      "Epoch 67/100\n",
      "\u001b[1m6/6\u001b[0m \u001b[32m━━━━━━━━━━━━━━━━━━━━\u001b[0m\u001b[37m\u001b[0m \u001b[1m0s\u001b[0m 24ms/step - loss: 0.0011 - val_loss: 0.0105\n",
      "Epoch 68/100\n",
      "\u001b[1m6/6\u001b[0m \u001b[32m━━━━━━━━━━━━━━━━━━━━\u001b[0m\u001b[37m\u001b[0m \u001b[1m0s\u001b[0m 25ms/step - loss: 9.4206e-04 - val_loss: 0.0101\n",
      "Epoch 69/100\n",
      "\u001b[1m6/6\u001b[0m \u001b[32m━━━━━━━━━━━━━━━━━━━━\u001b[0m\u001b[37m\u001b[0m \u001b[1m0s\u001b[0m 24ms/step - loss: 0.0010 - val_loss: 0.0069\n",
      "Epoch 70/100\n",
      "\u001b[1m6/6\u001b[0m \u001b[32m━━━━━━━━━━━━━━━━━━━━\u001b[0m\u001b[37m\u001b[0m \u001b[1m0s\u001b[0m 24ms/step - loss: 8.3777e-04 - val_loss: 0.0088\n",
      "Epoch 71/100\n",
      "\u001b[1m6/6\u001b[0m \u001b[32m━━━━━━━━━━━━━━━━━━━━\u001b[0m\u001b[37m\u001b[0m \u001b[1m0s\u001b[0m 24ms/step - loss: 9.5235e-04 - val_loss: 0.0065\n",
      "Epoch 72/100\n",
      "\u001b[1m6/6\u001b[0m \u001b[32m━━━━━━━━━━━━━━━━━━━━\u001b[0m\u001b[37m\u001b[0m \u001b[1m0s\u001b[0m 24ms/step - loss: 8.1545e-04 - val_loss: 0.0085\n",
      "Epoch 73/100\n",
      "\u001b[1m6/6\u001b[0m \u001b[32m━━━━━━━━━━━━━━━━━━━━\u001b[0m\u001b[37m\u001b[0m \u001b[1m0s\u001b[0m 24ms/step - loss: 9.1236e-04 - val_loss: 0.0050\n",
      "Epoch 74/100\n",
      "\u001b[1m6/6\u001b[0m \u001b[32m━━━━━━━━━━━━━━━━━━━━\u001b[0m\u001b[37m\u001b[0m \u001b[1m0s\u001b[0m 24ms/step - loss: 9.9252e-04 - val_loss: 0.0093\n",
      "Epoch 75/100\n",
      "\u001b[1m6/6\u001b[0m \u001b[32m━━━━━━━━━━━━━━━━━━━━\u001b[0m\u001b[37m\u001b[0m \u001b[1m0s\u001b[0m 24ms/step - loss: 9.2017e-04 - val_loss: 0.0065\n",
      "Epoch 76/100\n",
      "\u001b[1m6/6\u001b[0m \u001b[32m━━━━━━━━━━━━━━━━━━━━\u001b[0m\u001b[37m\u001b[0m \u001b[1m0s\u001b[0m 24ms/step - loss: 8.7142e-04 - val_loss: 0.0076\n",
      "Epoch 77/100\n",
      "\u001b[1m6/6\u001b[0m \u001b[32m━━━━━━━━━━━━━━━━━━━━\u001b[0m\u001b[37m\u001b[0m \u001b[1m0s\u001b[0m 24ms/step - loss: 8.4267e-04 - val_loss: 0.0070\n",
      "Epoch 78/100\n",
      "\u001b[1m6/6\u001b[0m \u001b[32m━━━━━━━━━━━━━━━━━━━━\u001b[0m\u001b[37m\u001b[0m \u001b[1m0s\u001b[0m 24ms/step - loss: 8.2413e-04 - val_loss: 0.0069\n",
      "Epoch 79/100\n",
      "\u001b[1m6/6\u001b[0m \u001b[32m━━━━━━━━━━━━━━━━━━━━\u001b[0m\u001b[37m\u001b[0m \u001b[1m0s\u001b[0m 44ms/step - loss: 9.0280e-04 - val_loss: 0.0051\n",
      "Epoch 80/100\n",
      "\u001b[1m6/6\u001b[0m \u001b[32m━━━━━━━━━━━━━━━━━━━━\u001b[0m\u001b[37m\u001b[0m \u001b[1m0s\u001b[0m 24ms/step - loss: 8.5006e-04 - val_loss: 0.0078\n",
      "Epoch 81/100\n",
      "\u001b[1m6/6\u001b[0m \u001b[32m━━━━━━━━━━━━━━━━━━━━\u001b[0m\u001b[37m\u001b[0m \u001b[1m0s\u001b[0m 25ms/step - loss: 8.2470e-04 - val_loss: 0.0044\n",
      "Epoch 82/100\n",
      "\u001b[1m6/6\u001b[0m \u001b[32m━━━━━━━━━━━━━━━━━━━━\u001b[0m\u001b[37m\u001b[0m \u001b[1m0s\u001b[0m 23ms/step - loss: 7.9394e-04 - val_loss: 0.0057\n",
      "Epoch 83/100\n",
      "\u001b[1m6/6\u001b[0m \u001b[32m━━━━━━━━━━━━━━━━━━━━\u001b[0m\u001b[37m\u001b[0m \u001b[1m0s\u001b[0m 23ms/step - loss: 7.8027e-04 - val_loss: 0.0038\n",
      "Epoch 84/100\n",
      "\u001b[1m6/6\u001b[0m \u001b[32m━━━━━━━━━━━━━━━━━━━━\u001b[0m\u001b[37m\u001b[0m \u001b[1m0s\u001b[0m 24ms/step - loss: 7.9691e-04 - val_loss: 0.0100\n",
      "Epoch 85/100\n",
      "\u001b[1m6/6\u001b[0m \u001b[32m━━━━━━━━━━━━━━━━━━━━\u001b[0m\u001b[37m\u001b[0m \u001b[1m0s\u001b[0m 24ms/step - loss: 9.2405e-04 - val_loss: 0.0027\n",
      "Epoch 86/100\n",
      "\u001b[1m6/6\u001b[0m \u001b[32m━━━━━━━━━━━━━━━━━━━━\u001b[0m\u001b[37m\u001b[0m \u001b[1m0s\u001b[0m 23ms/step - loss: 9.6482e-04 - val_loss: 0.0126\n",
      "Epoch 87/100\n",
      "\u001b[1m6/6\u001b[0m \u001b[32m━━━━━━━━━━━━━━━━━━━━\u001b[0m\u001b[37m\u001b[0m \u001b[1m0s\u001b[0m 23ms/step - loss: 0.0010 - val_loss: 0.0024\n",
      "Epoch 88/100\n",
      "\u001b[1m6/6\u001b[0m \u001b[32m━━━━━━━━━━━━━━━━━━━━\u001b[0m\u001b[37m\u001b[0m \u001b[1m0s\u001b[0m 23ms/step - loss: 9.0709e-04 - val_loss: 0.0048\n",
      "Epoch 89/100\n",
      "\u001b[1m6/6\u001b[0m \u001b[32m━━━━━━━━━━━━━━━━━━━━\u001b[0m\u001b[37m\u001b[0m \u001b[1m0s\u001b[0m 24ms/step - loss: 0.0010 - val_loss: 0.0060\n",
      "Epoch 90/100\n",
      "\u001b[1m6/6\u001b[0m \u001b[32m━━━━━━━━━━━━━━━━━━━━\u001b[0m\u001b[37m\u001b[0m \u001b[1m0s\u001b[0m 24ms/step - loss: 8.2129e-04 - val_loss: 0.0022\n",
      "Epoch 91/100\n",
      "\u001b[1m6/6\u001b[0m \u001b[32m━━━━━━━━━━━━━━━━━━━━\u001b[0m\u001b[37m\u001b[0m \u001b[1m0s\u001b[0m 23ms/step - loss: 0.0011 - val_loss: 0.0072\n",
      "Epoch 92/100\n",
      "\u001b[1m6/6\u001b[0m \u001b[32m━━━━━━━━━━━━━━━━━━━━\u001b[0m\u001b[37m\u001b[0m \u001b[1m0s\u001b[0m 33ms/step - loss: 0.0011 - val_loss: 0.0025\n",
      "Epoch 93/100\n",
      "\u001b[1m6/6\u001b[0m \u001b[32m━━━━━━━━━━━━━━━━━━━━\u001b[0m\u001b[37m\u001b[0m \u001b[1m0s\u001b[0m 24ms/step - loss: 8.9688e-04 - val_loss: 0.0081\n",
      "Epoch 94/100\n",
      "\u001b[1m6/6\u001b[0m \u001b[32m━━━━━━━━━━━━━━━━━━━━\u001b[0m\u001b[37m\u001b[0m \u001b[1m0s\u001b[0m 23ms/step - loss: 8.6264e-04 - val_loss: 0.0043\n",
      "Epoch 95/100\n",
      "\u001b[1m6/6\u001b[0m \u001b[32m━━━━━━━━━━━━━━━━━━━━\u001b[0m\u001b[37m\u001b[0m \u001b[1m0s\u001b[0m 23ms/step - loss: 7.7080e-04 - val_loss: 0.0048\n",
      "Epoch 96/100\n",
      "\u001b[1m6/6\u001b[0m \u001b[32m━━━━━━━━━━━━━━━━━━━━\u001b[0m\u001b[37m\u001b[0m \u001b[1m0s\u001b[0m 24ms/step - loss: 7.9730e-04 - val_loss: 0.0017\n",
      "Epoch 97/100\n",
      "\u001b[1m6/6\u001b[0m \u001b[32m━━━━━━━━━━━━━━━━━━━━\u001b[0m\u001b[37m\u001b[0m \u001b[1m0s\u001b[0m 24ms/step - loss: 8.3120e-04 - val_loss: 0.0051\n",
      "Epoch 98/100\n",
      "\u001b[1m6/6\u001b[0m \u001b[32m━━━━━━━━━━━━━━━━━━━━\u001b[0m\u001b[37m\u001b[0m \u001b[1m0s\u001b[0m 24ms/step - loss: 8.8467e-04 - val_loss: 0.0050\n",
      "Epoch 99/100\n",
      "\u001b[1m6/6\u001b[0m \u001b[32m━━━━━━━━━━━━━━━━━━━━\u001b[0m\u001b[37m\u001b[0m \u001b[1m0s\u001b[0m 24ms/step - loss: 6.6915e-04 - val_loss: 0.0071\n",
      "Epoch 100/100\n",
      "\u001b[1m6/6\u001b[0m \u001b[32m━━━━━━━━━━━━━━━━━━━━\u001b[0m\u001b[37m\u001b[0m \u001b[1m0s\u001b[0m 24ms/step - loss: 8.1591e-04 - val_loss: 0.0034\n"
     ]
    },
    {
     "data": {
      "text/plain": [
       "<keras.src.callbacks.history.History at 0x7f53069d3a90>"
      ]
     },
     "execution_count": 15,
     "metadata": {},
     "output_type": "execute_result"
    }
   ],
   "source": [
    "model.fit(X_train,y_train,validation_data=(X_test,y_test),epochs=100,batch_size=64,verbose=1)"
   ]
  },
  {
   "cell_type": "code",
   "execution_count": 16,
   "metadata": {},
   "outputs": [
    {
     "name": "stdout",
     "output_type": "stream",
     "text": [
      "\u001b[1m11/11\u001b[0m \u001b[32m━━━━━━━━━━━━━━━━━━━━\u001b[0m\u001b[37m\u001b[0m \u001b[1m1s\u001b[0m 42ms/step\n",
      "\u001b[1m6/6\u001b[0m \u001b[32m━━━━━━━━━━━━━━━━━━━━\u001b[0m\u001b[37m\u001b[0m \u001b[1m0s\u001b[0m 6ms/step \n"
     ]
    }
   ],
   "source": [
    "### Do the prediction and check performance metrics\n",
    "train_predict=model.predict(X_train)\n",
    "test_predict=model.predict(X_test)\n"
   ]
  },
  {
   "cell_type": "code",
   "execution_count": 17,
   "metadata": {},
   "outputs": [],
   "source": [
    "##Transformback to original form\n",
    "train_predict=scaler.inverse_transform(train_predict)\n",
    "test_predict=scaler.inverse_transform(test_predict)"
   ]
  },
  {
   "cell_type": "code",
   "execution_count": 18,
   "metadata": {},
   "outputs": [
    {
     "data": {
      "text/plain": [
       "22.145631302504206"
      ]
     },
     "execution_count": 18,
     "metadata": {},
     "output_type": "execute_result"
    }
   ],
   "source": [
    "math.sqrt(mean_squared_error(y_train,train_predict))"
   ]
  },
  {
   "cell_type": "code",
   "execution_count": 19,
   "metadata": {},
   "outputs": [
    {
     "data": {
      "text/plain": [
       "25.904759605135876"
      ]
     },
     "execution_count": 19,
     "metadata": {},
     "output_type": "execute_result"
    }
   ],
   "source": [
    "### Test Data RMSE\n",
    "math.sqrt(mean_squared_error(y_test,test_predict))"
   ]
  },
  {
   "cell_type": "code",
   "execution_count": 20,
   "metadata": {},
   "outputs": [
    {
     "data": {
      "image/png": "[encoded data removed]",
      "text/plain": [
       "<Figure size 640x480 with 1 Axes>"
      ]
     },
     "metadata": {},
     "output_type": "display_data"
    }
   ],
   "source": [
    "### Plotting \n",
    "#  train predictions for plotting\n",
    "look_back=10\n",
    "trainPredictPlot = np.empty_like(scaled_data)\n",
    "trainPredictPlot[:, :] = np.nan\n",
    "trainPredictPlot[look_back:len(train_predict)+look_back, :] = train_predict\n",
    "# test predictions for plotting\n",
    "testPredictPlot = np.empty_like(scaled_data)\n",
    "testPredictPlot[:, :] = np.nan\n",
    "testPredictPlot[len(train_predict)+(look_back*2)+1:len(scaled_data)-1, :] = test_predict\n",
    "\n",
    "plt.plot(scaler.inverse_transform(scaled_data))\n",
    "plt.plot(trainPredictPlot)\n",
    "plt.plot(testPredictPlot)\n",
    "plt.legend(['Training Obsevations', \n",
    "                    'Training Predictions',\n",
    "                    'Testing Predictions', \n",
    "                    ])\n",
    "plt.show()"
   ]
  },
  {
   "cell_type": "code",
   "execution_count": 21,
   "metadata": {},
   "outputs": [
    {
     "data": {
      "text/plain": [
       "183"
      ]
     },
     "execution_count": 21,
     "metadata": {},
     "output_type": "execute_result"
    }
   ],
   "source": [
    "len(test_data)"
   ]
  },
  {
   "cell_type": "code",
   "execution_count": 22,
   "metadata": {},
   "outputs": [
    {
     "data": {
      "text/plain": [
       "(1, 99)"
      ]
     },
     "execution_count": 22,
     "metadata": {},
     "output_type": "execute_result"
    }
   ],
   "source": [
    "x_input=test_data[84:].reshape(1,-1)\n",
    "x_input.shape"
   ]
  },
  {
   "cell_type": "code",
   "execution_count": 23,
   "metadata": {},
   "outputs": [],
   "source": [
    "temp_input=list(x_input)\n",
    "temp_input=temp_input[0].tolist()"
   ]
  },
  {
   "cell_type": "code",
   "execution_count": 24,
   "metadata": {},
   "outputs": [
    {
     "data": {
      "text/plain": [
       "[0.1314221891288161,\n",
       " 0.13030528667163066,\n",
       " 0.12658227848101267,\n",
       " 0.13030528667163066,\n",
       " 0.12062546537602381,\n",
       " 0.12211466865227105,\n",
       " 0.12658227848101267,\n",
       " 0.12658227848101267,\n",
       " 0.12658227848101267,\n",
       " 0.12695457930007437,\n",
       " 0.11727475800446763,\n",
       " 0.12546537602382724,\n",
       " 0.127699180938198,\n",
       " 0.15636634400595673,\n",
       " 0.17274758004467605,\n",
       " 0.16939687267311987,\n",
       " 0.17944899478778853,\n",
       " 0.18428890543559184,\n",
       " 0.23045420699925534,\n",
       " 0.2293373045420699,\n",
       " 0.2285927029039464,\n",
       " 0.24274013402829475,\n",
       " 0.23790022338049144,\n",
       " 0.23790022338049144,\n",
       " 0.17274758004467605,\n",
       " 0.3030528667163067,\n",
       " 0.3488458674609083,\n",
       " 0.35182427401340277,\n",
       " 0.368205510052122,\n",
       " 0.40096798212956064,\n",
       " 0.43633655994043186,\n",
       " 0.47207743857036477,\n",
       " 0.4821295606850333,\n",
       " 0.4579300074460164,\n",
       " 0.4932985852568874,\n",
       " 0.4817572598659716,\n",
       " 0.44005956813104974,\n",
       " 0.43670886075949356,\n",
       " 0.43261355174981375,\n",
       " 0.43186895011169013,\n",
       " 0.42032762472077434,\n",
       " 0.43186895011169013,\n",
       " 0.43261355174981375,\n",
       " 0.42032762472077434,\n",
       " 0.41995532390171264,\n",
       " 0.41697691734921816,\n",
       " 0.4139985107967237,\n",
       " 0.41027550260610557,\n",
       " 0.5081906180193596,\n",
       " 0.5636634400595681,\n",
       " 0.6027550260610572,\n",
       " 0.6090841399851079,\n",
       " 0.6139240506329113,\n",
       " 0.5994043186895011,\n",
       " 0.5930752047654504,\n",
       " 0.5964259121370068,\n",
       " 0.6157855547282203,\n",
       " 0.6102010424422932,\n",
       " 0.5915860014892032,\n",
       " 0.5912137006701415,\n",
       " 0.5729709605361131,\n",
       " 0.5915860014892032,\n",
       " 0.569247952345495,\n",
       " 0.5565897244973939,\n",
       " 0.5353685778108712,\n",
       " 0.5115413253909158,\n",
       " 0.587862993298585,\n",
       " 0.5655249441548771,\n",
       " 0.5729709605361131,\n",
       " 0.554355919583023,\n",
       " 0.5577066269545794,\n",
       " 0.5171258376768428,\n",
       " 0.5506329113924049,\n",
       " 0.5506329113924049,\n",
       " 0.5506329113924049,\n",
       " 0.5502606105733432,\n",
       " 0.5528667163067758,\n",
       " 0.6213700670141473,\n",
       " 0.6232315711094565,\n",
       " 0.6288160833953833,\n",
       " 0.6288160833953833,\n",
       " 0.7293373045420701,\n",
       " 0.7624720774385705,\n",
       " 0.8104988830975428,\n",
       " 0.7676842889054354,\n",
       " 0.788905435591958,\n",
       " 0.7814594192107223,\n",
       " 0.8093819806403575,\n",
       " 0.7751303052866716,\n",
       " 0.8145941921072226,\n",
       " 0.8484735666418466,\n",
       " 0.8588979895755771,\n",
       " 0.8894266567386448,\n",
       " 0.9999999999999998,\n",
       " 0.9635145197319435,\n",
       " 0.934102755026061,\n",
       " 0.9638868205510052,\n",
       " 0.9635145197319435,\n",
       " 0.9601638123603871]"
      ]
     },
     "execution_count": 24,
     "metadata": {},
     "output_type": "execute_result"
    }
   ],
   "source": [
    "temp_input"
   ]
  },
  {
   "cell_type": "code",
   "execution_count": 25,
   "metadata": {},
   "outputs": [
    {
     "ename": "ValueError",
     "evalue": "cannot reshape array of size 99 into shape (1,100,1)",
     "output_type": "error",
     "traceback": [
      "\u001b[0;31m---------------------------------------------------------------------------\u001b[0m",
      "\u001b[0;31mValueError\u001b[0m                                Traceback (most recent call last)",
      "Cell \u001b[0;32mIn[25], line 22\u001b[0m\n\u001b[1;32m     20\u001b[0m     i\u001b[38;5;241m=\u001b[39mi\u001b[38;5;241m+\u001b[39m\u001b[38;5;241m1\u001b[39m\n\u001b[1;32m     21\u001b[0m \u001b[38;5;28;01melse\u001b[39;00m:\n\u001b[0;32m---> 22\u001b[0m     x_input \u001b[38;5;241m=\u001b[39m \u001b[43mx_input\u001b[49m\u001b[38;5;241;43m.\u001b[39;49m\u001b[43mreshape\u001b[49m\u001b[43m(\u001b[49m\u001b[43m(\u001b[49m\u001b[38;5;241;43m1\u001b[39;49m\u001b[43m,\u001b[49m\u001b[43m \u001b[49m\u001b[43mn_steps\u001b[49m\u001b[43m,\u001b[49m\u001b[38;5;241;43m1\u001b[39;49m\u001b[43m)\u001b[49m\u001b[43m)\u001b[49m\n\u001b[1;32m     23\u001b[0m     yhat \u001b[38;5;241m=\u001b[39m model\u001b[38;5;241m.\u001b[39mpredict(x_input, verbose\u001b[38;5;241m=\u001b[39m\u001b[38;5;241m0\u001b[39m)\n\u001b[1;32m     24\u001b[0m     \u001b[38;5;28mprint\u001b[39m(yhat[\u001b[38;5;241m0\u001b[39m])\n",
      "\u001b[0;31mValueError\u001b[0m: cannot reshape array of size 99 into shape (1,100,1)"
     ]
    }
   ],
   "source": [
    "# demonstrate prediction for next 10 days\n",
    "\n",
    "lst_output=[]\n",
    "n_steps=100\n",
    "i=0\n",
    "while(i<30):\n",
    "    \n",
    "    # Before entering the loop, ensure temp_input has exactly n_steps elements\n",
    "    if len(temp_input) < n_steps:\n",
    "        print(f\"temp_input has only {len(temp_input)} elements, which is less than the required {n_steps} elements.\")\n",
    "        # Handle this scenario, e.g., by appending dummy data or skipping the prediction\n",
    "        # For example, to append zeros: temp_input.extend([0] * (n_steps - len(temp_input)))\n",
    "        # Skipping the prediction in this case:\n",
    "        continue  # Or use another approach as needed\n",
    "    \n",
    "    # Now inside the loop, temp_input is guaranteed to have at least n_steps elements\n",
    "    if(len(temp_input) >= n_steps):\n",
    "        x_input=np.array(temp_input[-n_steps:])  # Ensure x_input is constructed from the last n_steps elements\n",
    "        print(\"{} day input {}\".format(i,x_input))\n",
    "        x_input=x_input.reshape(1,-1)\n",
    "        x_input = x_input.reshape((1, n_steps, 1))\n",
    "    \n",
    "        yhat = model.predict(x_input, verbose=0)\n",
    "        print(\"{} day output {}\".format(i,yhat))\n",
    "        temp_input.extend(yhat[0].tolist())\n",
    "        temp_input=temp_input[1:]\n",
    "    \n",
    "        lst_output.extend(yhat.tolist())\n",
    "        i=i+1\n",
    "    else:\n",
    "        # Handle the case where temp_input does not have enough elements after the first iteration\n",
    "        pass  # Implement your logic here\n",
    "    \n",
    "\n",
    "print(lst_output)"
   ]
  },
  {
   "cell_type": "code",
   "execution_count": null,
   "metadata": {},
   "outputs": [],
   "source": [
    "day_new=np.arange(1,101)\n",
    "day_pred=np.arange(101,131)"
   ]
  },
  {
   "cell_type": "code",
   "execution_count": null,
   "metadata": {},
   "outputs": [
    {
     "data": {
      "text/plain": [
       "523"
      ]
     },
     "execution_count": 31,
     "metadata": {},
     "output_type": "execute_result"
    }
   ],
   "source": [
    "len(scaled_data)"
   ]
  },
  {
   "cell_type": "code",
   "execution_count": null,
   "metadata": {},
   "outputs": [
    {
     "data": {
      "text/plain": [
       "[<matplotlib.lines.Line2D at 0x7fd78c3bb160>]"
      ]
     },
     "execution_count": 32,
     "metadata": {},
     "output_type": "execute_result"
    },
    {
     "data": {
      "image/png": "[encoded data removed]",
      "text/plain": [
       "<Figure size 640x480 with 1 Axes>"
      ]
     },
     "metadata": {},
     "output_type": "display_data"
    }
   ],
   "source": [
    "plt.plot(day_new,scaler.inverse_transform(scaled_data[423:]))\n",
    "plt.plot(day_pred,scaler.inverse_transform(lst_output))"
   ]
  },
  {
   "cell_type": "code",
   "execution_count": null,
   "metadata": {},
   "outputs": [
    {
     "data": {
      "text/plain": [
       "[<matplotlib.lines.Line2D at 0x7fd7b0f13310>]"
      ]
     },
     "execution_count": 33,
     "metadata": {},
     "output_type": "execute_result"
    },
    {
     "data": {
      "image/png": "[encoded data removed]",
      "text/plain": [
       "<Figure size 640x480 with 1 Axes>"
      ]
     },
     "metadata": {},
     "output_type": "display_data"
    }
   ],
   "source": [
    "stock_pred=scaled_data.tolist()\n",
    "stock_pred.extend(lst_output)\n",
    "plt.plot(stock_pred[400:])"
   ]
  },
  {
   "cell_type": "code",
   "execution_count": null,
   "metadata": {},
   "outputs": [],
   "source": [
    "stock_pred=scaler.inverse_transform(stock_pred).tolist()"
   ]
  },
  {
   "cell_type": "code",
   "execution_count": null,
   "metadata": {},
   "outputs": [
    {
     "data": {
      "text/plain": [
       "[<matplotlib.lines.Line2D at 0x7fd7b0f760e0>]"
      ]
     },
     "execution_count": 35,
     "metadata": {},
     "output_type": "execute_result"
    },
    {
     "data": {
      "image/png": "[encoded data removed]",
      "text/plain": [
       "<Figure size 640x480 with 1 Axes>"
      ]
     },
     "metadata": {},
     "output_type": "display_data"
    }
   ],
   "source": [
    "plt.plot(stock_pred)"
   ]
  },
  {
   "cell_type": "code",
   "execution_count": null,
   "metadata": {},
   "outputs": [],
   "source": []
  }
 ],
 "metadata": {
  "kernelspec": {
   "display_name": "Python 3",
   "language": "python",
   "name": "python3"
  },
  "language_info": {
   "codemirror_mode": {
    "name": "ipython",
    "version": 3
   },
   "file_extension": ".py",
   "mimetype": "text/x-python",
   "name": "python",
   "nbconvert_exporter": "python",
   "pygments_lexer": "ipython3",
   "version": "3.10.12"
  }
 },
 "nbformat": 4,
 "nbformat_minor": 2
}
