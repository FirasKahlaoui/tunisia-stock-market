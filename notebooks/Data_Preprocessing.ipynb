{
 "cells": [
  {
   "cell_type": "markdown",
   "metadata": {},
   "source": [
    "# Data Preprocessing\n",
    "\n",
    "In this notebook, we will load the Tunisian stock market data, clean it, and prepare it for further analysis and modeling.\n"
   ]
  },
  {
   "cell_type": "markdown",
   "metadata": {},
   "source": [
    "### 1.1 Loading the Data\n",
    "**First, we will load the data from the CSV file and take a look at its structure.**"
   ]
  },
  {
   "cell_type": "code",
   "execution_count": 1,
   "metadata": {},
   "outputs": [],
   "source": [
    "# Import the necessary libraries\n",
    "import pandas as pd\n",
    "from sklearn.preprocessing import MinMaxScaler\n"
   ]
  },
  {
   "cell_type": "code",
   "execution_count": 2,
   "metadata": {},
   "outputs": [
    {
     "data": {
      "text/html": [
       "<div>\n",
       "<style scoped>\n",
       "    .dataframe tbody tr th:only-of-type {\n",
       "        vertical-align: middle;\n",
       "    }\n",
       "\n",
       "    .dataframe tbody tr th {\n",
       "        vertical-align: top;\n",
       "    }\n",
       "\n",
       "    .dataframe thead th {\n",
       "        text-align: right;\n",
       "    }\n",
       "</style>\n",
       "<table border=\"1\" class=\"dataframe\">\n",
       "  <thead>\n",
       "    <tr style=\"text-align: right;\">\n",
       "      <th></th>\n",
       "      <th>companyName</th>\n",
       "      <th>date</th>\n",
       "      <th>openingPrice</th>\n",
       "      <th>highestPrice</th>\n",
       "      <th>lowestPrice</th>\n",
       "      <th>closingPrice</th>\n",
       "      <th>volume</th>\n",
       "    </tr>\n",
       "  </thead>\n",
       "  <tbody>\n",
       "    <tr>\n",
       "      <th>0</th>\n",
       "      <td>MIP</td>\n",
       "      <td>16/06/2014</td>\n",
       "      <td>4.70</td>\n",
       "      <td>4.70</td>\n",
       "      <td>4.70</td>\n",
       "      <td>4.70</td>\n",
       "      <td>243099</td>\n",
       "    </tr>\n",
       "    <tr>\n",
       "      <th>1</th>\n",
       "      <td>MIP</td>\n",
       "      <td>23/06/2014</td>\n",
       "      <td>4.69</td>\n",
       "      <td>4.69</td>\n",
       "      <td>4.56</td>\n",
       "      <td>4.56</td>\n",
       "      <td>13850</td>\n",
       "    </tr>\n",
       "    <tr>\n",
       "      <th>2</th>\n",
       "      <td>MIP</td>\n",
       "      <td>30/06/2014</td>\n",
       "      <td>4.43</td>\n",
       "      <td>4.56</td>\n",
       "      <td>4.43</td>\n",
       "      <td>4.43</td>\n",
       "      <td>4335</td>\n",
       "    </tr>\n",
       "    <tr>\n",
       "      <th>3</th>\n",
       "      <td>MIP</td>\n",
       "      <td>07/07/2014</td>\n",
       "      <td>4.50</td>\n",
       "      <td>4.50</td>\n",
       "      <td>4.49</td>\n",
       "      <td>4.49</td>\n",
       "      <td>4114</td>\n",
       "    </tr>\n",
       "    <tr>\n",
       "      <th>4</th>\n",
       "      <td>MIP</td>\n",
       "      <td>14/07/2014</td>\n",
       "      <td>4.48</td>\n",
       "      <td>4.48</td>\n",
       "      <td>3.92</td>\n",
       "      <td>4.03</td>\n",
       "      <td>52687</td>\n",
       "    </tr>\n",
       "  </tbody>\n",
       "</table>\n",
       "</div>"
      ],
      "text/plain": [
       "  companyName        date  openingPrice  highestPrice  lowestPrice  \\\n",
       "0         MIP  16/06/2014          4.70          4.70         4.70   \n",
       "1         MIP  23/06/2014          4.69          4.69         4.56   \n",
       "2         MIP  30/06/2014          4.43          4.56         4.43   \n",
       "3         MIP  07/07/2014          4.50          4.50         4.49   \n",
       "4         MIP  14/07/2014          4.48          4.48         3.92   \n",
       "\n",
       "   closingPrice  volume  \n",
       "0          4.70  243099  \n",
       "1          4.56   13850  \n",
       "2          4.43    4335  \n",
       "3          4.49    4114  \n",
       "4          4.03   52687  "
      ]
     },
     "execution_count": 2,
     "metadata": {},
     "output_type": "execute_result"
    }
   ],
   "source": [
    "# Load the data\n",
    "data = pd.read_csv('./data/checked_weekly_stock_market.csv')\n",
    "\n",
    "# Display the first few rows of the dataframe\n",
    "data.head()"
   ]
  },
  {
   "cell_type": "markdown",
   "metadata": {},
   "source": [
    "### 1.2 Handling Missing Values\n",
    "**We'll check for missing values and handle them appropriately.**"
   ]
  },
  {
   "cell_type": "code",
   "execution_count": 3,
   "metadata": {},
   "outputs": [
    {
     "name": "stdout",
     "output_type": "stream",
     "text": [
      "companyName     0\n",
      "date            0\n",
      "openingPrice    0\n",
      "highestPrice    0\n",
      "lowestPrice     0\n",
      "closingPrice    0\n",
      "volume          0\n",
      "dtype: int64\n"
     ]
    }
   ],
   "source": [
    "# Check for missing values\n",
    "missing_values = data.isnull().sum()\n",
    "print(missing_values)"
   ]
  },
  {
   "cell_type": "markdown",
   "metadata": {},
   "source": [
    "*No Missing Values*\n",
    "- companyName: 0 missing values\n",
    "- date: 0 missing values\n",
    "- openingPrice: 0 missing values\n",
    "- highestPrice: 0 missing values\n",
    "- lowestPrice: 0 missing values\n",
    "- closingPrice: 0 missing values\n",
    "- volume: 0 missing values"
   ]
  },
  {
   "cell_type": "markdown",
   "metadata": {},
   "source": [
    "### 1.3 Data Type Conversion\n",
    "**Ensure that the date column is of the correct data type and other columns are correctly typed.**"
   ]
  },
  {
   "cell_type": "code",
   "execution_count": 4,
   "metadata": {},
   "outputs": [
    {
     "data": {
      "text/plain": [
       "companyName             object\n",
       "date            datetime64[ns]\n",
       "openingPrice           float64\n",
       "highestPrice           float64\n",
       "lowestPrice            float64\n",
       "closingPrice           float64\n",
       "volume                 float64\n",
       "dtype: object"
      ]
     },
     "execution_count": 4,
     "metadata": {},
     "output_type": "execute_result"
    }
   ],
   "source": [
    "# Convert 'date' column to datetime format\n",
    "data['date'] = pd.to_datetime(data['date'], format='%d/%m/%Y')\n",
    "\n",
    "# Ensure numeric columns are of type float\n",
    "numeric_columns = ['openingPrice', 'highestPrice', 'lowestPrice', 'closingPrice', 'volume']\n",
    "data[numeric_columns] = data[numeric_columns].astype(float)\n",
    "\n",
    "# Display the data types\n",
    "data.dtypes"
   ]
  },
  {
   "cell_type": "markdown",
   "metadata": {},
   "source": [
    "### 1.4 Handling Duplicates\n",
    "**Check for and handle any duplicate rows.**"
   ]
  },
  {
   "cell_type": "code",
   "execution_count": 5,
   "metadata": {},
   "outputs": [
    {
     "name": "stdout",
     "output_type": "stream",
     "text": [
      "Duplicates: 0\n"
     ]
    }
   ],
   "source": [
    "# Check for duplicates\n",
    "duplicates = data.duplicated().sum()\n",
    "print(f'Duplicates: {duplicates}')\n",
    "\n",
    "# Drop duplicates if any\n",
    "data.drop_duplicates(inplace=True)"
   ]
  },
  {
   "cell_type": "markdown",
   "metadata": {},
   "source": [
    "*No Duplicated Rows*"
   ]
  },
  {
   "cell_type": "code",
   "execution_count": 6,
   "metadata": {},
   "outputs": [],
   "source": [
    "# Save the cleaned data\n",
    "data.to_csv('./data/cleaned_weekly_stock_market.csv', index=False)"
   ]
  },
  {
   "cell_type": "markdown",
   "metadata": {},
   "source": [
    "### 1.5 Data Normalization\n",
    "**Normalize numerical features.**"
   ]
  },
  {
   "cell_type": "code",
   "execution_count": 7,
   "metadata": {},
   "outputs": [
    {
     "data": {
      "text/html": [
       "<div>\n",
       "<style scoped>\n",
       "    .dataframe tbody tr th:only-of-type {\n",
       "        vertical-align: middle;\n",
       "    }\n",
       "\n",
       "    .dataframe tbody tr th {\n",
       "        vertical-align: top;\n",
       "    }\n",
       "\n",
       "    .dataframe thead th {\n",
       "        text-align: right;\n",
       "    }\n",
       "</style>\n",
       "<table border=\"1\" class=\"dataframe\">\n",
       "  <thead>\n",
       "    <tr style=\"text-align: right;\">\n",
       "      <th></th>\n",
       "      <th>companyName</th>\n",
       "      <th>date</th>\n",
       "      <th>openingPrice</th>\n",
       "      <th>highestPrice</th>\n",
       "      <th>lowestPrice</th>\n",
       "      <th>closingPrice</th>\n",
       "      <th>volume</th>\n",
       "    </tr>\n",
       "  </thead>\n",
       "  <tbody>\n",
       "    <tr>\n",
       "      <th>0</th>\n",
       "      <td>MIP</td>\n",
       "      <td>2014-06-16</td>\n",
       "      <td>0.000468</td>\n",
       "      <td>0.000466</td>\n",
       "      <td>0.000469</td>\n",
       "      <td>0.000467</td>\n",
       "      <td>0.002162</td>\n",
       "    </tr>\n",
       "    <tr>\n",
       "      <th>1</th>\n",
       "      <td>MIP</td>\n",
       "      <td>2014-06-23</td>\n",
       "      <td>0.000467</td>\n",
       "      <td>0.000465</td>\n",
       "      <td>0.000455</td>\n",
       "      <td>0.000453</td>\n",
       "      <td>0.000123</td>\n",
       "    </tr>\n",
       "    <tr>\n",
       "      <th>2</th>\n",
       "      <td>MIP</td>\n",
       "      <td>2014-06-30</td>\n",
       "      <td>0.000441</td>\n",
       "      <td>0.000452</td>\n",
       "      <td>0.000441</td>\n",
       "      <td>0.000440</td>\n",
       "      <td>0.000039</td>\n",
       "    </tr>\n",
       "    <tr>\n",
       "      <th>3</th>\n",
       "      <td>MIP</td>\n",
       "      <td>2014-07-07</td>\n",
       "      <td>0.000448</td>\n",
       "      <td>0.000446</td>\n",
       "      <td>0.000447</td>\n",
       "      <td>0.000446</td>\n",
       "      <td>0.000037</td>\n",
       "    </tr>\n",
       "    <tr>\n",
       "      <th>4</th>\n",
       "      <td>MIP</td>\n",
       "      <td>2014-07-14</td>\n",
       "      <td>0.000446</td>\n",
       "      <td>0.000444</td>\n",
       "      <td>0.000389</td>\n",
       "      <td>0.000400</td>\n",
       "      <td>0.000469</td>\n",
       "    </tr>\n",
       "  </tbody>\n",
       "</table>\n",
       "</div>"
      ],
      "text/plain": [
       "  companyName       date  openingPrice  highestPrice  lowestPrice  \\\n",
       "0         MIP 2014-06-16      0.000468      0.000466     0.000469   \n",
       "1         MIP 2014-06-23      0.000467      0.000465     0.000455   \n",
       "2         MIP 2014-06-30      0.000441      0.000452     0.000441   \n",
       "3         MIP 2014-07-07      0.000448      0.000446     0.000447   \n",
       "4         MIP 2014-07-14      0.000446      0.000444     0.000389   \n",
       "\n",
       "   closingPrice    volume  \n",
       "0      0.000467  0.002162  \n",
       "1      0.000453  0.000123  \n",
       "2      0.000440  0.000039  \n",
       "3      0.000446  0.000037  \n",
       "4      0.000400  0.000469  "
      ]
     },
     "execution_count": 7,
     "metadata": {},
     "output_type": "execute_result"
    }
   ],
   "source": [
    "scaler = MinMaxScaler()\n",
    "data[numeric_columns] = scaler.fit_transform(data[numeric_columns])\n",
    "\n",
    "# Display the first few rows of the dataframe after normalization\n",
    "data.head()"
   ]
  }
 ],
 "metadata": {
  "kernelspec": {
   "display_name": "Python 3",
   "language": "python",
   "name": "python3"
  },
  "language_info": {
   "codemirror_mode": {
    "name": "ipython",
    "version": 3
   },
   "file_extension": ".py",
   "mimetype": "text/x-python",
   "name": "python",
   "nbconvert_exporter": "python",
   "pygments_lexer": "ipython3",
   "version": "3.10.12"
  }
 },
 "nbformat": 4,
 "nbformat_minor": 2
}
